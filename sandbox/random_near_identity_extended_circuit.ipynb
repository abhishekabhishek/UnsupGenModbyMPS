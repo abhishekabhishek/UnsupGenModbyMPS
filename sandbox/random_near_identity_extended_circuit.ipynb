{
 "cells": [
  {
   "cell_type": "code",
   "execution_count": 1,
   "metadata": {},
   "outputs": [
    {
     "name": "stdout",
     "output_type": "stream",
     "text": [
      "/home/mushahid/Desktop/project/cpenprojec/UnsupGenModbyMPS\n"
     ]
    }
   ],
   "source": [
    "cd .."
   ]
  },
  {
   "cell_type": "code",
   "execution_count": 2,
   "metadata": {},
   "outputs": [],
   "source": [
    "import jax.numpy as jnp\n",
    "import numpy as np\n",
    "import pennylane as qml\n",
    "from pennylane import numpy as pnp\n",
    "import random_near_identity_extended_circuit as random_near_identity_extended_circuit\n",
    "from MPScumulant import MPS_c\n",
    "import mps_circuit_helpers as helpers\n"
   ]
  },
  {
   "cell_type": "code",
   "execution_count": 3,
   "metadata": {},
   "outputs": [],
   "source": [
    "results = {}"
   ]
  },
  {
   "attachments": {},
   "cell_type": "markdown",
   "metadata": {},
   "source": [
    "## Initial Weights: Either Randomly Assigned With No Restrictions or Weights Near Unitary"
   ]
  },
  {
   "cell_type": "code",
   "execution_count": 4,
   "metadata": {},
   "outputs": [
    {
     "name": "stderr",
     "output_type": "stream",
     "text": [
      "No GPU/TPU found, falling back to CPU. (Set TF_CPP_MIN_LOG_LEVEL=0 and rerun for more info.)\n"
     ]
    }
   ],
   "source": [
    "weights_random = jnp.array(pnp.random.normal(size=(88, 15), requires_grad=True))\n",
    "\n",
    "weights_near_identity = jnp.array(pnp.random.uniform(low = -0.01, high=0.01, size=(88, 15), requires_grad=True))\n",
    "\n",
    "params_random = {\n",
    "    'params': weights_random\n",
    "}\n",
    "params_near_identity = {\n",
    "    'params': weights_near_identity\n",
    "}"
   ]
  },
  {
   "cell_type": "code",
   "execution_count": 5,
   "metadata": {},
   "outputs": [
    {
     "name": "stderr",
     "output_type": "stream",
     "text": [
      "100%|██████████| 15000/15000 [22:13<00:00, 11.25it/s]\n",
      "100%|██████████| 15000/15000 [20:29<00:00, 12.20it/s]\n"
     ]
    }
   ],
   "source": [
    "random_initialized_circuit = random_near_identity_extended_circuit.get_random_initialized_circuit(weights_random)\n",
    "near_unitary_initialized_circuit = random_near_identity_extended_circuit.get_random_initialized_circuit(weights_near_identity)\n",
    "\n",
    "params_random, loss_track_random = random_near_identity_extended_circuit.train_model(params_random)\n",
    "params_near_identity, loss_track_near_unitary = random_near_identity_extended_circuit.train_model(params_near_identity)\n",
    "\n",
    "results['Random Initialization'] = [params_random, loss_track_random]\n",
    "results['Near Identity Initialization'] = [params_near_identity, loss_track_near_unitary]\n"
   ]
  },
  {
   "attachments": {},
   "cell_type": "markdown",
   "metadata": {},
   "source": [
    "## Extending Circuit Generate by MPS"
   ]
  },
  {
   "cell_type": "code",
   "execution_count": null,
   "metadata": {},
   "outputs": [],
   "source": [
    "chis = ['BStest/BS_project-2-MPS', 'BStest/BS_project-4-MPS', 'BStest/BS_project-8-MPS','BS_4_3-300-MPS']\n",
    "labels = [\"2 Max Bond Dimension MPS\", \"Chi = 4 Max Bond Dimension MPS\", \"Chi = 8 Max Bond Dimension MPS\", \"Chi = Max Bond Dimension 300 MPS\"]\n",
    "maxi_bonds = [2, 4, 8, 300]\n",
    "for i in range(len(chis)):\n",
    "    random_near_identity_extended_circuit.maxi_bond = maxi_bonds[i]\n",
    "    random_near_identity_extended_circuit.chi = chis[i]\n",
    "    random_near_identity_extended_circuit.mps = MPS_c(12, max_bond_dim=maxi_bonds[i])\n",
    "\n",
    "    data_states = random_near_identity_extended_circuit.get_data_states(\"BStest/b_s_4_3.npy\", 12)\n",
    "    \n",
    "    total_num_weights, wires_to_add_su4 = random_near_identity_extended_circuit.get_details_for_su4_matrices(expanded_tape, n_wires)\n",
    "    expanded_tape = random_near_identity_extended_circuit.get_expanded_tape()\n",
    "    params = jnp.array(qml.math.stack(expanded_tape.data))\n",
    "    params1 = jnp.array(pnp.random.normal(size=(total_num_weights, 15), requires_grad=True))\n",
    "    init_val = {\n",
    "    'params': params,\n",
    "    'params1': params1\n",
    "    }      \n",
    "    init_val, loss_track = random_near_identity_extended_circuit.train_model(init_val)\n",
    "    results[labels[i]] = [init_val, loss_track]\n"
   ]
  }
 ],
 "metadata": {
  "kernelspec": {
   "display_name": "Python 3",
   "language": "python",
   "name": "python3"
  },
  "language_info": {
   "codemirror_mode": {
    "name": "ipython",
    "version": 3
   },
   "file_extension": ".py",
   "mimetype": "text/x-python",
   "name": "python",
   "nbconvert_exporter": "python",
   "pygments_lexer": "ipython3",
   "version": "3.10.7"
  },
  "orig_nbformat": 4
 },
 "nbformat": 4,
 "nbformat_minor": 2
}
