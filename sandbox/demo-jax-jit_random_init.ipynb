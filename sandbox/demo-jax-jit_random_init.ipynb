{
 "cells": [
  {
   "cell_type": "code",
   "execution_count": 1,
   "metadata": {},
   "outputs": [
    {
     "name": "stdout",
     "output_type": "stream",
     "text": [
      "/Users/mushahid/Desktop/ProjectFInal/UnsupGenModbyMPS\n"
     ]
    }
   ],
   "source": [
    "cd .."
   ]
  },
  {
   "cell_type": "code",
   "execution_count": 2,
   "metadata": {},
   "outputs": [],
   "source": [
    "%load_ext autoreload\n",
    "\n",
    "import matplotlib.pyplot as plt\n",
    "import numpy as np\n",
    "import pennylane as qml\n",
    "from pennylane import numpy as pnp\n",
    "import jax.numpy as jnp\n",
    "import optax\n",
    "import jax\n",
    "import mps_circuit_helpers\n",
    "import mps_circuit\n",
    "import metrics\n",
    "\n",
    "from tqdm import tqdm\n",
    "from jax.config import config\n",
    "config.update(\"jax_enable_x64\", True)\n",
    "from MPScumulant import MPS_c\n"
   ]
  },
  {
   "cell_type": "code",
   "execution_count": 3,
   "metadata": {},
   "outputs": [],
   "source": [
    "import itertools\n",
    "import numpy as np\n",
    "\n",
    "def bars_and_stripes(rows, cols):\n",
    "    \n",
    "    data = [] \n",
    "    \n",
    "    for h in itertools.product([0,1], repeat=cols):\n",
    "        pic = np.repeat([h], rows, 0)\n",
    "        data.append(pic.ravel().tolist())\n",
    "          \n",
    "    for h in itertools.product([0,1], repeat=rows):\n",
    "        pic = np.repeat([h], cols, 1)\n",
    "        data.append(pic.ravel().tolist())\n",
    "        \n",
    "    data = np.unique(np.asarray(data), axis=0)\n",
    "    for i in range(len(data)):\n",
    "        for j in range(len(data[i])):\n",
    "            if data[i][j] == 1:\n",
    "                data[i][j] = True\n",
    "            else:\n",
    "                data[i][j] = False\n",
    "    return data"
   ]
  },
  {
   "cell_type": "code",
   "execution_count": 4,
   "metadata": {},
   "outputs": [
    {
     "name": "stdout",
     "output_type": "stream",
     "text": [
      "(12,)\n",
      "(12,)\n",
      "(12,)\n",
      "(12,)\n",
      "(12,)\n",
      "(12,)\n",
      "(12,)\n",
      "(12,)\n",
      "(12,)\n",
      "(12,)\n",
      "(12,)\n",
      "(12,)\n",
      "(12,)\n",
      "(12,)\n",
      "(12,)\n",
      "(12,)\n",
      "(12,)\n",
      "(12,)\n",
      "(12,)\n",
      "(12,)\n",
      "(12,)\n",
      "(12,)\n"
     ]
    }
   ],
   "source": [
    "data = bars_and_stripes(4,3)\n",
    "data_shaped = []\n",
    "for i in range(len(data)):\n",
    "    print(data[i].shape)\n",
    "    data_shaped.append(data[i].reshape(12,))\n",
    "data_shaped = pnp.array(data_shaped)"
   ]
  },
  {
   "cell_type": "code",
   "execution_count": 5,
   "metadata": {},
   "outputs": [],
   "source": [
    "# weights = jnp.array(pnp.random.normal(size=(88, 15), requires_grad=True))\n",
    "import random\n",
    "random.uniform(0, 1)\n",
    "\n",
    "weights1 = []\n",
    "for i in range(88):\n",
    "    t = np.random.uniform(0, 1, size=15)\n",
    "    t = np.array(t)\n",
    "    t = t * np.pi\n",
    "    t = jnp.array(t)\n",
    "    weights1.append(t)\n",
    "weight1 = jnp.array(weights1)"
   ]
  },
  {
   "cell_type": "code",
   "execution_count": 6,
   "metadata": {},
   "outputs": [
    {
     "data": {
      "text/plain": [
       "15"
      ]
     },
     "execution_count": 6,
     "metadata": {},
     "output_type": "execute_result"
    }
   ],
   "source": [
    "len(weights1[0])"
   ]
  },
  {
   "cell_type": "code",
   "execution_count": 7,
   "metadata": {},
   "outputs": [
    {
     "name": "stderr",
     "output_type": "stream",
     "text": [
      "100%|██████████| 10000/10000 [33:01<00:00,  5.05it/s] \n"
     ]
    }
   ],
   "source": [
    "wires = 12\n",
    "dev = qml.device(\"default.qubit\", wires=wires)\n",
    "# weights = jnp.array(pnp.random.normal(size=(45, 1), requires_grad=True))\n",
    "\n",
    "@qml.qnode(dev, interface=\"jax\")\n",
    "def random_initialized_circuit(weights):\n",
    "    i = 0\n",
    "    while i < 11:\n",
    "        qml.SpecialUnitary(weights[i], wires=[i, i + 1])\n",
    "        i += 1\n",
    "    w = 0\n",
    "    while i < 22:\n",
    "        qml.SpecialUnitary(weights[i], wires=[w, w + 1])\n",
    "        w += 1\n",
    "        i += 1    \n",
    "    \n",
    "    for x in range(wires - 1):\n",
    "        for j in range(x + 1, wires):\n",
    "            qml.SpecialUnitary(weights[i], wires=[x, j])\n",
    "            i += 1\n",
    "    return qml.probs(wires=list(range(wires)))\n",
    "\n",
    "@jax.jit\n",
    "def loss(weights):\n",
    "    probs = random_initialized_circuit(weights)\n",
    "    return metrics.kl_divergence_synergy_paper(2**12, probs)\n",
    "\n",
    "n_its = 10000\n",
    "\n",
    "loss_track = []\n",
    "opt_exc = optax.adam(0.01)\n",
    "opt_state = opt_exc.init(weights1)\n",
    "for it in tqdm(range(n_its)):\n",
    "    grads = jax.grad(loss)(weights1)\n",
    "    updates, opt_state = opt_exc.update(grads, opt_state)\n",
    "\n",
    "    weights1 = optax.apply_updates(weights1, updates)\n",
    "    loss_track.append(loss(weights1))\n"
   ]
  },
  {
   "cell_type": "code",
   "execution_count": 13,
   "metadata": {},
   "outputs": [
    {
     "data": {
      "image/png": "[encoded data removed]",
      "text/plain": [
       "<Figure size 640x480 with 1 Axes>"
      ]
     },
     "metadata": {},
     "output_type": "display_data"
    }
   ],
   "source": [
    "plt.plot(loss_track)\n",
    "plt.yscale('log')"
   ]
  },
  {
   "cell_type": "code",
   "execution_count": 131,
   "metadata": {},
   "outputs": [
    {
     "name": "stdout",
     "output_type": "stream",
     "text": [
      "22\n",
      "Frequency : 1\n"
     ]
    },
    {
     "ename": "ValueError",
     "evalue": "cannot reshape array of size 1 into shape (4,4)",
     "output_type": "error",
     "traceback": [
      "\u001b[0;31m---------------------------------------------------------------------------\u001b[0m",
      "\u001b[0;31mValueError\u001b[0m                                Traceback (most recent call last)",
      "Cell \u001b[0;32mIn[131], line 2\u001b[0m\n\u001b[1;32m      1\u001b[0m samples \u001b[39m=\u001b[39m random_initialized_circuit(weights)\n\u001b[0;32m----> 2\u001b[0m metrics\u001b[39m.\u001b[39;49mplot_top_samples(samples)\n",
      "File \u001b[0;32m~/Desktop/project/cpenprojec/UnsupGenModbyMPS/metrics.py:120\u001b[0m, in \u001b[0;36mplot_top_samples\u001b[0;34m(samples)\u001b[0m\n\u001b[1;32m    118\u001b[0m \u001b[39mfor\u001b[39;00m i \u001b[39min\u001b[39;00m \u001b[39mrange\u001b[39m(\u001b[39m1\u001b[39m, \u001b[39m31\u001b[39m):\n\u001b[1;32m    119\u001b[0m     \u001b[39mprint\u001b[39m(\u001b[39mf\u001b[39m\u001b[39m\"\u001b[39m\u001b[39mFrequency : \u001b[39m\u001b[39m{\u001b[39;00mcounts[idxs[\u001b[39m-\u001b[39mi]]\u001b[39m}\u001b[39;00m\u001b[39m\"\u001b[39m)\n\u001b[0;32m--> 120\u001b[0m     top_samples[i\u001b[39m-\u001b[39m\u001b[39m1\u001b[39m] \u001b[39m=\u001b[39m unique_samples[idxs[\u001b[39m-\u001b[39;49mi]]\u001b[39m.\u001b[39;49mreshape(\u001b[39m4\u001b[39;49m, \u001b[39m4\u001b[39;49m)\n\u001b[1;32m    122\u001b[0m fig, ax \u001b[39m=\u001b[39m plot_BAS(top_samples)\n\u001b[1;32m    123\u001b[0m \u001b[39mreturn\u001b[39;00m fig, ax\n",
      "\u001b[0;31mValueError\u001b[0m: cannot reshape array of size 1 into shape (4,4)"
     ]
    }
   ],
   "source": [
    "samples = random_initialized_circuit(weights)\n",
    "metrics.plot_top_samples(samples)"
   ]
  },
  {
   "cell_type": "code",
   "execution_count": 9,
   "metadata": {},
   "outputs": [
    {
     "data": {
      "text/plain": [
       "[]"
      ]
     },
     "execution_count": 9,
     "metadata": {},
     "output_type": "execute_result"
    }
   ],
   "source": [
    "loss_track"
   ]
  },
  {
   "cell_type": "code",
   "execution_count": null,
   "metadata": {},
   "outputs": [],
   "source": []
  }
 ],
 "metadata": {
  "kernelspec": {
   "display_name": "Python 3",
   "language": "python",
   "name": "python3"
  },
  "language_info": {
   "codemirror_mode": {
    "name": "ipython",
    "version": 3
   },
   "file_extension": ".py",
   "mimetype": "text/x-python",
   "name": "python",
   "nbconvert_exporter": "python",
   "pygments_lexer": "ipython3",
   "version": "3.11.2"
  },
  "orig_nbformat": 4
 },
 "nbformat": 4,
 "nbformat_minor": 2
}
