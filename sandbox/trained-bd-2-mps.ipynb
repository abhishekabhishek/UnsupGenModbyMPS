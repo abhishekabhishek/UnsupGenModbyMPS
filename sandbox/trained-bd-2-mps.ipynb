{
 "cells": [
  {
   "cell_type": "code",
   "execution_count": 1,
   "metadata": {},
   "outputs": [
    {
     "name": "stdout",
     "output_type": "stream",
     "text": [
      "/home/abhishekabhishek/git/UnsupGenModbyMPS\n"
     ]
    }
   ],
   "source": [
    "cd .."
   ]
  },
  {
   "cell_type": "code",
   "execution_count": 2,
   "metadata": {},
   "outputs": [],
   "source": [
    "import matplotlib.pyplot as plt\n",
    "import numpy as np\n",
    "import pennylane as qml\n",
    "from pennylane import numpy as pnp\n",
    "\n",
    "from MPScumulant import MPS_c\n",
    "import mps_circuit_helpers\n",
    "import mps_circuit\n",
    "import metrics"
   ]
  },
  {
   "cell_type": "code",
   "execution_count": 3,
   "metadata": {},
   "outputs": [],
   "source": [
    "%load_ext autoreload"
   ]
  },
  {
   "attachments": {},
   "cell_type": "markdown",
   "metadata": {},
   "source": [
    "Load the trained MPS"
   ]
  },
  {
   "cell_type": "code",
   "execution_count": 4,
   "metadata": {},
   "outputs": [
    {
     "name": "stdout",
     "output_type": "stream",
     "text": [
      "0 (1, 2, 2)\n",
      "1 (2, 2, 2)\n",
      "2 (2, 2, 2)\n",
      "3 (2, 2, 2)\n",
      "4 (2, 2, 2)\n",
      "5 (2, 2, 2)\n",
      "6 (2, 2, 2)\n",
      "7 (2, 2, 2)\n",
      "8 (2, 2, 2)\n",
      "9 (2, 2, 2)\n",
      "10 (2, 2, 2)\n",
      "11 (2, 2, 2)\n",
      "12 (2, 2, 2)\n",
      "13 (2, 2, 2)\n",
      "14 (2, 2, 2)\n",
      "15 (2, 2, 1)\n"
     ]
    }
   ],
   "source": [
    "%autoreload\n",
    "m = MPS_c(16, max_bond_dim=2)\n",
    "m.loadMPS('BS-2-MPS')\n",
    "\n",
    "# check the properties of the matrices in the MPS\n",
    "for i in range(len(m.matrices)):\n",
    "    tn_core = m.matrices[i]\n",
    "    print(i, tn_core.shape)"
   ]
  },
  {
   "cell_type": "code",
   "execution_count": 5,
   "metadata": {},
   "outputs": [
    {
     "name": "stdout",
     "output_type": "stream",
     "text": [
      "idx, core tensor shape, left isometry, right isometry\n",
      "0 (1, 2, 2) True True\n",
      "1 (2, 2, 2) True False\n",
      "2 (2, 2, 2) True False\n",
      "3 (2, 2, 2) True False\n",
      "4 (2, 2, 2) True False\n",
      "5 (2, 2, 2) True False\n",
      "6 (2, 2, 2) True False\n",
      "7 (2, 2, 2) True False\n",
      "8 (2, 2, 2) True False\n",
      "9 (2, 2, 2) True False\n",
      "10 (2, 2, 2) True False\n",
      "11 (2, 2, 2) True False\n",
      "12 (2, 2, 2) True False\n",
      "13 (2, 2, 2) True False\n",
      "14 (2, 2, 2) False False\n",
      "15 (2, 2, 1) False False\n"
     ]
    }
   ],
   "source": [
    "mps_circuit_helpers.are_isometries(m)"
   ]
  },
  {
   "cell_type": "code",
   "execution_count": 6,
   "metadata": {},
   "outputs": [
    {
     "name": "stdout",
     "output_type": "stream",
     "text": [
      "padding the mps core tensors\n",
      "idx, shape of the padded tensor, updated bond dimension\n",
      "i = 1, (2, 2, 2), 2\n",
      "i = 2, (2, 2, 2), 2\n",
      "i = 3, (2, 2, 2), 2\n",
      "i = 4, (2, 2, 2), 2\n",
      "i = 5, (2, 2, 2), 2\n",
      "i = 6, (2, 2, 2), 2\n",
      "i = 7, (2, 2, 2), 2\n",
      "i = 8, (2, 2, 2), 2\n",
      "i = 9, (2, 2, 2), 2\n",
      "i = 10, (2, 2, 2), 2\n",
      "i = 11, (2, 2, 2), 2\n",
      "i = 12, (2, 2, 2), 2\n",
      "i = 13, (2, 2, 2), 2\n",
      "i = 14, (2, 2, 2), 2\n",
      "left canonicalizing the padded MPS\n",
      "bond: 0\n",
      "bond: 1\n",
      "bond: 2\n",
      "bond: 3\n",
      "bond: 4\n",
      "bond: 5\n",
      "bond: 6\n",
      "bond: 7\n",
      "bond: 8\n",
      "bond: 9\n",
      "bond: 10\n",
      "bond: 11\n",
      "bond: 12\n",
      "bond: 13\n",
      "bond: 14\n"
     ]
    }
   ],
   "source": [
    "%autoreload\n",
    "mps_unitaries = mps_circuit_helpers.get_mps_unitaries(m)"
   ]
  },
  {
   "attachments": {},
   "cell_type": "markdown",
   "metadata": {},
   "source": [
    "Generate samples from the trained MPS"
   ]
  },
  {
   "cell_type": "code",
   "execution_count": 8,
   "metadata": {},
   "outputs": [
    {
     "data": {
      "text/plain": [
       "array([0, 1, 1, 0, 1, 1, 1, 1, 1, 1, 1, 0, 0, 0, 0, 0], dtype=int8)"
      ]
     },
     "execution_count": 8,
     "metadata": {},
     "output_type": "execute_result"
    }
   ],
   "source": [
    "m.left_cano()\n",
    "m.generate_sample()"
   ]
  },
  {
   "cell_type": "code",
   "execution_count": 10,
   "metadata": {},
   "outputs": [],
   "source": [
    "samples = np.zeros((30, 4, 4), dtype=np.int8)\n",
    "for i in range(samples.shape[0]):\n",
    "    samples[i] = m.generate_sample().reshape(4, 4)"
   ]
  },
  {
   "cell_type": "code",
   "execution_count": 11,
   "metadata": {},
   "outputs": [
    {
     "name": "stdout",
     "output_type": "stream",
     "text": [
      "Frequency : 1\n",
      "Frequency : 1\n",
      "Frequency : 1\n",
      "Frequency : 1\n",
      "Frequency : 1\n",
      "Frequency : 1\n",
      "Frequency : 1\n",
      "Frequency : 1\n",
      "Frequency : 1\n",
      "Frequency : 1\n",
      "Frequency : 1\n",
      "Frequency : 1\n",
      "Frequency : 1\n",
      "Frequency : 1\n",
      "Frequency : 1\n",
      "Frequency : 1\n",
      "Frequency : 1\n",
      "Frequency : 1\n",
      "Frequency : 1\n",
      "Frequency : 1\n",
      "Frequency : 1\n",
      "Frequency : 1\n",
      "Frequency : 1\n",
      "Frequency : 1\n",
      "Frequency : 1\n",
      "Frequency : 1\n",
      "Frequency : 1\n",
      "Frequency : 1\n",
      "Frequency : 1\n",
      "Frequency : 1\n"
     ]
    },
    {
     "data": {
      "text/plain": [
       "(<Figure size 1296x1080 with 30 Axes>, <Axes: >)"
      ]
     },
     "execution_count": 11,
     "metadata": {},
     "output_type": "execute_result"
    },
    {
     "data": {
      "image/png": "[encoded data removed]",
      "text/plain": [
       "<Figure size 1296x1080 with 30 Axes>"
      ]
     },
     "metadata": {},
     "output_type": "display_data"
    }
   ],
   "source": [
    "%autoreload\n",
    "metrics.plot_top_samples(samples)"
   ]
  },
  {
   "attachments": {},
   "cell_type": "markdown",
   "metadata": {},
   "source": [
    "The chi = 2 MPS clearly does not capture the dataset but is able to generate some bars and stripes. Let's try to extract a KL-divergence value from the MPS"
   ]
  },
  {
   "cell_type": "code",
   "execution_count": 35,
   "metadata": {},
   "outputs": [],
   "source": [
    "states = np.arange(2**16, dtype=int)\n",
    "bin_states = np.zeros((2**16, 16), dtype=int)\n",
    "\n",
    "for i in range(states.shape[0]):\n",
    "    bin_states[i] = np.array(list(np.binary_repr(states[i], width=16)),\n",
    "                             dtype=int)"
   ]
  },
  {
   "cell_type": "code",
   "execution_count": 36,
   "metadata": {},
   "outputs": [
    {
     "data": {
      "text/plain": [
       "array([[0, 0, 0, ..., 0, 0, 0],\n",
       "       [0, 0, 0, ..., 0, 0, 1],\n",
       "       [0, 0, 0, ..., 0, 1, 0],\n",
       "       ...,\n",
       "       [1, 1, 1, ..., 1, 0, 1],\n",
       "       [1, 1, 1, ..., 1, 1, 0],\n",
       "       [1, 1, 1, ..., 1, 1, 1]])"
      ]
     },
     "execution_count": 36,
     "metadata": {},
     "output_type": "execute_result"
    }
   ],
   "source": [
    "bin_states"
   ]
  },
  {
   "cell_type": "code",
   "execution_count": 38,
   "metadata": {},
   "outputs": [],
   "source": [
    "mps_probs = m.Give_probab(bin_states)"
   ]
  },
  {
   "cell_type": "code",
   "execution_count": 39,
   "metadata": {},
   "outputs": [
    {
     "data": {
      "text/plain": [
       "array([0.00380636, 0.00073879, 0.00132806, ..., 0.000998  , 0.00025165,\n",
       "       0.00575008])"
      ]
     },
     "execution_count": 39,
     "metadata": {},
     "output_type": "execute_result"
    }
   ],
   "source": [
    "mps_probs"
   ]
  },
  {
   "cell_type": "code",
   "execution_count": 46,
   "metadata": {},
   "outputs": [],
   "source": [
    "data = np.load('BStest/BSdata.npy')\n",
    "data_states = data.reshape(-1, 16).astype(np.int8)"
   ]
  },
  {
   "cell_type": "code",
   "execution_count": 47,
   "metadata": {},
   "outputs": [],
   "source": [
    "mps_probs_states = m.Give_probab(data_states)"
   ]
  },
  {
   "cell_type": "code",
   "execution_count": 49,
   "metadata": {},
   "outputs": [
    {
     "data": {
      "text/plain": [
       "Array(5.105069, dtype=float32)"
      ]
     },
     "execution_count": 49,
     "metadata": {},
     "output_type": "execute_result"
    }
   ],
   "source": [
    "%autoreload\n",
    "metrics.kl_divergence_synergy_paper(30, mps_probs_states)"
   ]
  },
  {
   "attachments": {},
   "cell_type": "markdown",
   "metadata": {},
   "source": [
    "The above is similar to the value we have in the synergy paper "
   ]
  },
  {
   "cell_type": "markdown",
   "metadata": {},
   "source": []
  }
 ],
 "metadata": {
  "kernelspec": {
   "display_name": "dorian",
   "language": "python",
   "name": "dorian"
  },
  "language_info": {
   "codemirror_mode": {
    "name": "ipython",
    "version": 3
   },
   "file_extension": ".py",
   "mimetype": "text/x-python",
   "name": "python",
   "nbconvert_exporter": "python",
   "pygments_lexer": "ipython3",
   "version": "3.8.16"
  },
  "orig_nbformat": 4
 },
 "nbformat": 4,
 "nbformat_minor": 2
}
