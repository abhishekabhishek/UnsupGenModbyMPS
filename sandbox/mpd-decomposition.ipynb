{
 "cells": [
  {
   "cell_type": "code",
   "execution_count": 1,
   "metadata": {},
   "outputs": [
    {
     "name": "stdout",
     "output_type": "stream",
     "text": [
      "/home/abhishekabhishek/git/UnsupGenModbyMPS\n"
     ]
    }
   ],
   "source": [
    "cd .."
   ]
  },
  {
   "cell_type": "code",
   "execution_count": 2,
   "metadata": {},
   "outputs": [],
   "source": [
    "import matplotlib.pyplot as plt\n",
    "import numpy as np\n",
    "import pennylane as qml\n",
    "from pennylane import numpy as pnp\n",
    "import tensornetwork as tn\n",
    "\n",
    "from MPScumulant import MPS_c\n",
    "import mps_circuit_helpers as helpers\n",
    "import mps_circuit\n",
    "import metrics\n",
    "\n",
    "%load_ext autoreload"
   ]
  },
  {
   "cell_type": "code",
   "execution_count": 3,
   "metadata": {},
   "outputs": [],
   "source": [
    "# load and format the data\n",
    "data = np.load('BStest/BSdata.npy')\n",
    "data_states = data.reshape(-1, 16).astype(np.int8)"
   ]
  },
  {
   "cell_type": "code",
   "execution_count": 4,
   "metadata": {},
   "outputs": [
    {
     "name": "stdout",
     "output_type": "stream",
     "text": [
      "0 (1, 2, 2)\n",
      "1 (2, 2, 4)\n",
      "2 (4, 2, 4)\n",
      "3 (4, 2, 4)\n",
      "4 (4, 2, 4)\n",
      "5 (4, 2, 4)\n",
      "6 (4, 2, 4)\n",
      "7 (4, 2, 4)\n",
      "8 (4, 2, 4)\n",
      "9 (4, 2, 4)\n",
      "10 (4, 2, 4)\n",
      "11 (4, 2, 4)\n",
      "12 (4, 2, 4)\n",
      "13 (4, 2, 4)\n",
      "14 (4, 2, 2)\n",
      "15 (2, 2, 1)\n"
     ]
    }
   ],
   "source": [
    "# load the trained MPS (with max_bond_dim = 4)\n",
    "m = MPS_c(16, max_bond_dim=4)\n",
    "m.loadMPS('BS-4-MPS')\n",
    "\n",
    "# check the properties of the matrices in the MPS\n",
    "for i in range(len(m.matrices)):\n",
    "    tn_core = m.matrices[i]\n",
    "    print(i, tn_core.shape)"
   ]
  },
  {
   "cell_type": "code",
   "execution_count": 17,
   "metadata": {},
   "outputs": [
    {
     "data": {
      "text/plain": [
       "MPScumulant.MPS_c"
      ]
     },
     "execution_count": 17,
     "metadata": {},
     "output_type": "execute_result"
    }
   ],
   "source": [
    "type(m)"
   ]
  },
  {
   "attachments": {},
   "cell_type": "markdown",
   "metadata": {},
   "source": [
    "Attempt to create a tensornetwork MPS using the above core tensors"
   ]
  },
  {
   "cell_type": "code",
   "execution_count": 6,
   "metadata": {},
   "outputs": [],
   "source": [
    "tn_mps = tn.FiniteMPS(m.matrices, canonicalize=False)"
   ]
  },
  {
   "cell_type": "code",
   "execution_count": 7,
   "metadata": {},
   "outputs": [
    {
     "data": {
      "text/plain": [
       "<tensornetwork.matrixproductstates.finite_mps.FiniteMPS at 0x7f769025d6d0>"
      ]
     },
     "execution_count": 7,
     "metadata": {},
     "output_type": "execute_result"
    }
   ],
   "source": [
    "tn_mps"
   ]
  },
  {
   "cell_type": "code",
   "execution_count": 10,
   "metadata": {},
   "outputs": [
    {
     "data": {
      "text/plain": [
       "([1, 2, 4, 4, 4, 4, 4, 4, 4, 4, 4, 4, 4, 4, 4, 2, 1],\n",
       " [2, 2, 2, 2, 2, 2, 2, 2, 2, 2, 2, 2, 2, 2, 2, 2])"
      ]
     },
     "execution_count": 10,
     "metadata": {},
     "output_type": "execute_result"
    }
   ],
   "source": [
    "tn_mps.bond_dimensions, tn_mps.physical_dimensions"
   ]
  },
  {
   "cell_type": "code",
   "execution_count": 11,
   "metadata": {},
   "outputs": [
    {
     "ename": "ValueError",
     "evalue": "FiniteMPS.center_positions is `None`. Cannot check canonical form.",
     "output_type": "error",
     "traceback": [
      "\u001b[0;31m---------------------------------------------------------------------------\u001b[0m",
      "\u001b[0;31mValueError\u001b[0m                                Traceback (most recent call last)",
      "\u001b[1;32m/home/abhishekabhishek/git/UnsupGenModbyMPS/sandbox/mpd-decomposition.ipynb Cell 9\u001b[0m in \u001b[0;36m<cell line: 1>\u001b[0;34m()\u001b[0m\n\u001b[0;32m----> <a href='vscode-notebook-cell:/home/abhishekabhishek/git/UnsupGenModbyMPS/sandbox/mpd-decomposition.ipynb#X16sZmlsZQ%3D%3D?line=0'>1</a>\u001b[0m tn_mps\u001b[39m.\u001b[39;49mcheck_canonical()\n",
      "File \u001b[0;32m~/anaconda3/envs/dorian/lib/python3.8/site-packages/tensornetwork/matrixproductstates/finite_mps.py:155\u001b[0m, in \u001b[0;36mFiniteMPS.check_canonical\u001b[0;34m(self)\u001b[0m\n\u001b[1;32m    149\u001b[0m \u001b[39m\"\"\"Check whether the MPS is in the expected canonical form.\u001b[39;00m\n\u001b[1;32m    150\u001b[0m \n\u001b[1;32m    151\u001b[0m \u001b[39mReturns:\u001b[39;00m\n\u001b[1;32m    152\u001b[0m \u001b[39m  The L2 norm of the vector of local deviations.\u001b[39;00m\n\u001b[1;32m    153\u001b[0m \u001b[39m\"\"\"\u001b[39;00m\n\u001b[1;32m    154\u001b[0m \u001b[39mif\u001b[39;00m \u001b[39mself\u001b[39m\u001b[39m.\u001b[39mcenter_position \u001b[39mis\u001b[39;00m \u001b[39mNone\u001b[39;00m:\n\u001b[0;32m--> 155\u001b[0m   \u001b[39mraise\u001b[39;00m \u001b[39mValueError\u001b[39;00m(\n\u001b[1;32m    156\u001b[0m       \u001b[39m\"\u001b[39m\u001b[39mFiniteMPS.center_positions is `None`. Cannot check canonical form.\u001b[39m\u001b[39m\"\u001b[39m)\n\u001b[1;32m    157\u001b[0m deviations \u001b[39m=\u001b[39m []\n\u001b[1;32m    158\u001b[0m \u001b[39mfor\u001b[39;00m site \u001b[39min\u001b[39;00m \u001b[39mrange\u001b[39m(\u001b[39mlen\u001b[39m(\u001b[39mself\u001b[39m\u001b[39m.\u001b[39mtensors)):\n",
      "\u001b[0;31mValueError\u001b[0m: FiniteMPS.center_positions is `None`. Cannot check canonical form."
     ]
    }
   ],
   "source": [
    "tn_mps.check_canonical()"
   ]
  },
  {
   "cell_type": "code",
   "execution_count": 14,
   "metadata": {},
   "outputs": [
    {
     "data": {
      "text/plain": [
       "1.4142135623730951"
      ]
     },
     "execution_count": 14,
     "metadata": {},
     "output_type": "execute_result"
    }
   ],
   "source": [
    "# try to left canonicalize the MPS\n",
    "tn_mps.center_position = len(m.matrices)-1\n",
    "tn_mps.position(len(m.matrices)-1)"
   ]
  },
  {
   "cell_type": "code",
   "execution_count": 15,
   "metadata": {},
   "outputs": [
    {
     "data": {
      "text/plain": [
       "0.7090506896529838"
      ]
     },
     "execution_count": 15,
     "metadata": {},
     "output_type": "execute_result"
    }
   ],
   "source": [
    "tn_mps.check_canonical()"
   ]
  },
  {
   "cell_type": "code",
   "execution_count": 16,
   "metadata": {},
   "outputs": [
    {
     "data": {
      "text/plain": [
       "0.9999999999999999"
      ]
     },
     "execution_count": 16,
     "metadata": {},
     "output_type": "execute_result"
    }
   ],
   "source": [
    "tn_mps.canonicalize()"
   ]
  },
  {
   "attachments": {},
   "cell_type": "markdown",
   "metadata": {},
   "source": [
    "Check if all the tensor are left isometries after left canonicalization"
   ]
  },
  {
   "cell_type": "code",
   "execution_count": 18,
   "metadata": {},
   "outputs": [
    {
     "name": "stdout",
     "output_type": "stream",
     "text": [
      "idx, core tensor shape, left isometry, right isometry\n",
      "0 (1, 2, 2) True True\n",
      "1 (2, 2, 4) True True\n",
      "2 (4, 2, 4) True False\n",
      "3 (4, 2, 4) True False\n",
      "4 (4, 2, 4) True False\n",
      "5 (4, 2, 4) True False\n",
      "6 (4, 2, 4) True False\n",
      "7 (4, 2, 4) True False\n",
      "8 (4, 2, 4) True False\n",
      "9 (4, 2, 4) True False\n",
      "10 (4, 2, 4) True False\n",
      "11 (4, 2, 4) True False\n",
      "12 (4, 2, 4) True False\n",
      "13 (4, 2, 4) True False\n",
      "14 (4, 2, 2) True False\n",
      "15 (2, 2, 1) True False\n"
     ]
    }
   ],
   "source": [
    "%autoreload\n",
    "# check for isometries by reshaping along axis 0\n",
    "helpers.are_isometries(tn_mps)"
   ]
  },
  {
   "attachments": {},
   "cell_type": "markdown",
   "metadata": {},
   "source": [
    "Ok. So looks like left-canonicalization using the tensornetwork methods was successful."
   ]
  }
 ],
 "metadata": {
  "kernelspec": {
   "display_name": "dorian",
   "language": "python",
   "name": "dorian"
  },
  "language_info": {
   "codemirror_mode": {
    "name": "ipython",
    "version": 3
   },
   "file_extension": ".py",
   "mimetype": "text/x-python",
   "name": "python",
   "nbconvert_exporter": "python",
   "pygments_lexer": "ipython3",
   "version": "3.8.16"
  },
  "orig_nbformat": 4
 },
 "nbformat": 4,
 "nbformat_minor": 2
}
