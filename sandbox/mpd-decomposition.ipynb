{
 "cells": [
  {
   "cell_type": "code",
   "execution_count": 1,
   "metadata": {},
   "outputs": [
    {
     "name": "stdout",
     "output_type": "stream",
     "text": [
      "/home/abhishekabhishek/git/UnsupGenModbyMPS\n"
     ]
    }
   ],
   "source": [
    "cd .."
   ]
  },
  {
   "cell_type": "code",
   "execution_count": 2,
   "metadata": {},
   "outputs": [],
   "source": [
    "%load_ext autoreload"
   ]
  },
  {
   "cell_type": "code",
   "execution_count": 3,
   "metadata": {},
   "outputs": [],
   "source": [
    "import matplotlib.pyplot as plt\n",
    "import numpy as np\n",
    "import pennylane as qml\n",
    "from pennylane import numpy as pnp\n",
    "import tensornetwork as tn\n",
    "\n",
    "from MPScumulant import MPS_c\n",
    "import mps_circuit_helpers as helpers\n",
    "import mps_circuit\n",
    "import metrics\n",
    "import mps_helpers"
   ]
  },
  {
   "cell_type": "code",
   "execution_count": 4,
   "metadata": {},
   "outputs": [],
   "source": [
    "# load and format the data\n",
    "data = np.load('BStest/BSdata.npy')\n",
    "data_states = data.reshape(-1, 16).astype(np.int8)"
   ]
  },
  {
   "cell_type": "code",
   "execution_count": 43,
   "metadata": {},
   "outputs": [
    {
     "name": "stdout",
     "output_type": "stream",
     "text": [
      "0 (1, 2, 2)\n",
      "1 (2, 2, 4)\n",
      "2 (4, 2, 4)\n",
      "3 (4, 2, 4)\n",
      "4 (4, 2, 4)\n",
      "5 (4, 2, 4)\n",
      "6 (4, 2, 4)\n",
      "7 (4, 2, 4)\n",
      "8 (4, 2, 4)\n",
      "9 (4, 2, 4)\n",
      "10 (4, 2, 4)\n",
      "11 (4, 2, 4)\n",
      "12 (4, 2, 4)\n",
      "13 (4, 2, 4)\n",
      "14 (4, 2, 2)\n",
      "15 (2, 2, 1)\n"
     ]
    }
   ],
   "source": [
    "# load the trained MPS (with max_bond_dim = 4)\n",
    "m = MPS_c(16, max_bond_dim=4)\n",
    "m.loadMPS('BS-4-MPS')\n",
    "\n",
    "# check the properties of the matrices in the MPS\n",
    "for i in range(len(m.matrices)):\n",
    "    tn_core = m.matrices[i]\n",
    "    print(i, tn_core.shape)"
   ]
  },
  {
   "cell_type": "code",
   "execution_count": 44,
   "metadata": {},
   "outputs": [
    {
     "data": {
      "text/plain": [
       "array([2, 4, 4, 4, 4, 4, 4, 4, 4, 4, 4, 4, 4, 4, 2, 1], dtype=int16)"
      ]
     },
     "execution_count": 44,
     "metadata": {},
     "output_type": "execute_result"
    }
   ],
   "source": [
    "m.bond_dimension"
   ]
  },
  {
   "cell_type": "code",
   "execution_count": 45,
   "metadata": {},
   "outputs": [
    {
     "data": {
      "text/plain": [
       "MPScumulant.MPS_c"
      ]
     },
     "execution_count": 45,
     "metadata": {},
     "output_type": "execute_result"
    }
   ],
   "source": [
    "type(m)"
   ]
  },
  {
   "attachments": {},
   "cell_type": "markdown",
   "metadata": {},
   "source": [
    "Attempt to create a tensornetwork MPS using the above core tensors"
   ]
  },
  {
   "cell_type": "code",
   "execution_count": 46,
   "metadata": {},
   "outputs": [],
   "source": [
    "tn_mps = tn.FiniteMPS(m.matrices, canonicalize=False)"
   ]
  },
  {
   "cell_type": "code",
   "execution_count": 47,
   "metadata": {},
   "outputs": [
    {
     "data": {
      "text/plain": [
       "<tensornetwork.matrixproductstates.finite_mps.FiniteMPS at 0x7fba4cff50a0>"
      ]
     },
     "execution_count": 47,
     "metadata": {},
     "output_type": "execute_result"
    }
   ],
   "source": [
    "tn_mps"
   ]
  },
  {
   "cell_type": "code",
   "execution_count": 48,
   "metadata": {},
   "outputs": [
    {
     "data": {
      "text/plain": [
       "([1, 2, 4, 4, 4, 4, 4, 4, 4, 4, 4, 4, 4, 4, 4, 2, 1],\n",
       " [2, 2, 2, 2, 2, 2, 2, 2, 2, 2, 2, 2, 2, 2, 2, 2])"
      ]
     },
     "execution_count": 48,
     "metadata": {},
     "output_type": "execute_result"
    }
   ],
   "source": [
    "tn_mps.bond_dimensions, tn_mps.physical_dimensions"
   ]
  },
  {
   "cell_type": "code",
   "execution_count": 9,
   "metadata": {},
   "outputs": [
    {
     "ename": "ValueError",
     "evalue": "FiniteMPS.center_positions is `None`. Cannot check canonical form.",
     "output_type": "error",
     "traceback": [
      "\u001b[0;31m---------------------------------------------------------------------------\u001b[0m",
      "\u001b[0;31mValueError\u001b[0m                                Traceback (most recent call last)",
      "\u001b[1;32m/home/abhishekabhishek/git/UnsupGenModbyMPS/sandbox/mpd-decomposition.ipynb Cell 10\u001b[0m in \u001b[0;36m<cell line: 1>\u001b[0;34m()\u001b[0m\n\u001b[0;32m----> <a href='vscode-notebook-cell:/home/abhishekabhishek/git/UnsupGenModbyMPS/sandbox/mpd-decomposition.ipynb#X12sZmlsZQ%3D%3D?line=0'>1</a>\u001b[0m tn_mps\u001b[39m.\u001b[39;49mcheck_canonical()\n",
      "File \u001b[0;32m~/anaconda3/envs/dorian/lib/python3.8/site-packages/tensornetwork/matrixproductstates/finite_mps.py:155\u001b[0m, in \u001b[0;36mFiniteMPS.check_canonical\u001b[0;34m(self)\u001b[0m\n\u001b[1;32m    149\u001b[0m \u001b[39m\"\"\"Check whether the MPS is in the expected canonical form.\u001b[39;00m\n\u001b[1;32m    150\u001b[0m \n\u001b[1;32m    151\u001b[0m \u001b[39mReturns:\u001b[39;00m\n\u001b[1;32m    152\u001b[0m \u001b[39m  The L2 norm of the vector of local deviations.\u001b[39;00m\n\u001b[1;32m    153\u001b[0m \u001b[39m\"\"\"\u001b[39;00m\n\u001b[1;32m    154\u001b[0m \u001b[39mif\u001b[39;00m \u001b[39mself\u001b[39m\u001b[39m.\u001b[39mcenter_position \u001b[39mis\u001b[39;00m \u001b[39mNone\u001b[39;00m:\n\u001b[0;32m--> 155\u001b[0m   \u001b[39mraise\u001b[39;00m \u001b[39mValueError\u001b[39;00m(\n\u001b[1;32m    156\u001b[0m       \u001b[39m\"\u001b[39m\u001b[39mFiniteMPS.center_positions is `None`. Cannot check canonical form.\u001b[39m\u001b[39m\"\u001b[39m)\n\u001b[1;32m    157\u001b[0m deviations \u001b[39m=\u001b[39m []\n\u001b[1;32m    158\u001b[0m \u001b[39mfor\u001b[39;00m site \u001b[39min\u001b[39;00m \u001b[39mrange\u001b[39m(\u001b[39mlen\u001b[39m(\u001b[39mself\u001b[39m\u001b[39m.\u001b[39mtensors)):\n",
      "\u001b[0;31mValueError\u001b[0m: FiniteMPS.center_positions is `None`. Cannot check canonical form."
     ]
    }
   ],
   "source": [
    "tn_mps.check_canonical()"
   ]
  },
  {
   "cell_type": "code",
   "execution_count": 10,
   "metadata": {},
   "outputs": [
    {
     "data": {
      "text/plain": [
       "1.4142135623730951"
      ]
     },
     "execution_count": 10,
     "metadata": {},
     "output_type": "execute_result"
    }
   ],
   "source": [
    "# try to left canonicalize the MPS\n",
    "tn_mps.center_position = len(m.matrices)-1\n",
    "tn_mps.position(len(m.matrices)-1)"
   ]
  },
  {
   "cell_type": "code",
   "execution_count": 11,
   "metadata": {},
   "outputs": [
    {
     "data": {
      "text/plain": [
       "0.7090506896529838"
      ]
     },
     "execution_count": 11,
     "metadata": {},
     "output_type": "execute_result"
    }
   ],
   "source": [
    "tn_mps.check_canonical()"
   ]
  },
  {
   "cell_type": "code",
   "execution_count": 12,
   "metadata": {},
   "outputs": [
    {
     "data": {
      "text/plain": [
       "0.9999999999999999"
      ]
     },
     "execution_count": 12,
     "metadata": {},
     "output_type": "execute_result"
    }
   ],
   "source": [
    "tn_mps.canonicalize()"
   ]
  },
  {
   "attachments": {},
   "cell_type": "markdown",
   "metadata": {},
   "source": [
    "Check if all the tensor are left isometries after left canonicalization"
   ]
  },
  {
   "cell_type": "code",
   "execution_count": 13,
   "metadata": {},
   "outputs": [
    {
     "name": "stdout",
     "output_type": "stream",
     "text": [
      "idx, core tensor shape, left isometry, right isometry\n",
      "0 (1, 2, 2) True True\n",
      "1 (2, 2, 4) True True\n",
      "2 (4, 2, 4) True False\n",
      "3 (4, 2, 4) True False\n",
      "4 (4, 2, 4) True False\n",
      "5 (4, 2, 4) True False\n",
      "6 (4, 2, 4) True False\n",
      "7 (4, 2, 4) True False\n",
      "8 (4, 2, 4) True False\n",
      "9 (4, 2, 4) True False\n",
      "10 (4, 2, 4) True False\n",
      "11 (4, 2, 4) True False\n",
      "12 (4, 2, 4) True False\n",
      "13 (4, 2, 4) True False\n",
      "14 (4, 2, 2) True False\n",
      "15 (2, 2, 1) True False\n"
     ]
    }
   ],
   "source": [
    "%autoreload\n",
    "# check for isometries by reshaping along axis 0\n",
    "helpers.are_isometries(tn_mps)"
   ]
  },
  {
   "attachments": {},
   "cell_type": "markdown",
   "metadata": {},
   "source": [
    "Ok. So looks like left-canonicalization using the tensornetwork methods was successful. Step 0 of load the MPS into the `tensornetwork` framework is complete."
   ]
  },
  {
   "attachments": {},
   "cell_type": "markdown",
   "metadata": {},
   "source": [
    "Step 1 : Truncate the MPS to chi = 2"
   ]
  },
  {
   "cell_type": "code",
   "execution_count": 20,
   "metadata": {},
   "outputs": [
    {
     "data": {
      "text/plain": [
       "(2, 2, 4)"
      ]
     },
     "execution_count": 20,
     "metadata": {},
     "output_type": "execute_result"
    }
   ],
   "source": [
    "tn_mps.get_tensor(1).shape"
   ]
  },
  {
   "cell_type": "code",
   "execution_count": 21,
   "metadata": {},
   "outputs": [
    {
     "ename": "TypeError",
     "evalue": "split_node() missing 2 required positional arguments: 'left_edges' and 'right_edges'",
     "output_type": "error",
     "traceback": [
      "\u001b[0;31m---------------------------------------------------------------------------\u001b[0m",
      "\u001b[0;31mTypeError\u001b[0m                                 Traceback (most recent call last)",
      "\u001b[1;32m/home/abhishekabhishek/git/UnsupGenModbyMPS/sandbox/mpd-decomposition.ipynb Cell 19\u001b[0m in \u001b[0;36m<cell line: 1>\u001b[0;34m()\u001b[0m\n\u001b[0;32m----> <a href='vscode-notebook-cell:/home/abhishekabhishek/git/UnsupGenModbyMPS/sandbox/mpd-decomposition.ipynb#X26sZmlsZQ%3D%3D?line=0'>1</a>\u001b[0m u_prime, v_prime \u001b[39m=\u001b[39m tn\u001b[39m.\u001b[39;49msplit_node(tn_mps\u001b[39m.\u001b[39;49mget_tensor(\u001b[39m1\u001b[39;49m), max_singular_values\u001b[39m=\u001b[39;49m\u001b[39m2\u001b[39;49m)\n",
      "\u001b[0;31mTypeError\u001b[0m: split_node() missing 2 required positional arguments: 'left_edges' and 'right_edges'"
     ]
    }
   ],
   "source": [
    "u_prime, v_prime = tn.split_node(tn_mps.get_tensor(1),  max_singular_values=2)"
   ]
  },
  {
   "cell_type": "code",
   "execution_count": 22,
   "metadata": {},
   "outputs": [
    {
     "ename": "AttributeError",
     "evalue": "'numpy.ndarray' object has no attribute 'get_edge'",
     "output_type": "error",
     "traceback": [
      "\u001b[0;31m---------------------------------------------------------------------------\u001b[0m",
      "\u001b[0;31mAttributeError\u001b[0m                            Traceback (most recent call last)",
      "\u001b[1;32m/home/abhishekabhishek/git/UnsupGenModbyMPS/sandbox/mpd-decomposition.ipynb Cell 20\u001b[0m in \u001b[0;36m<cell line: 1>\u001b[0;34m()\u001b[0m\n\u001b[0;32m----> <a href='vscode-notebook-cell:/home/abhishekabhishek/git/UnsupGenModbyMPS/sandbox/mpd-decomposition.ipynb#X30sZmlsZQ%3D%3D?line=0'>1</a>\u001b[0m tn_mps\u001b[39m.\u001b[39;49mget_tensor(\u001b[39m1\u001b[39;49m)\u001b[39m.\u001b[39;49mget_edge(\u001b[39m0\u001b[39m)\n",
      "\u001b[0;31mAttributeError\u001b[0m: 'numpy.ndarray' object has no attribute 'get_edge'"
     ]
    }
   ],
   "source": [
    "tn_mps.get_tensor(1).get_edge(0)"
   ]
  },
  {
   "cell_type": "code",
   "execution_count": 30,
   "metadata": {},
   "outputs": [
    {
     "data": {
      "text/plain": [
       "['__class__',\n",
       " '__delattr__',\n",
       " '__dict__',\n",
       " '__dir__',\n",
       " '__doc__',\n",
       " '__eq__',\n",
       " '__format__',\n",
       " '__ge__',\n",
       " '__getattribute__',\n",
       " '__gt__',\n",
       " '__hash__',\n",
       " '__init__',\n",
       " '__init_subclass__',\n",
       " '__le__',\n",
       " '__len__',\n",
       " '__lt__',\n",
       " '__module__',\n",
       " '__ne__',\n",
       " '__new__',\n",
       " '__reduce__',\n",
       " '__reduce_ex__',\n",
       " '__repr__',\n",
       " '__setattr__',\n",
       " '__sizeof__',\n",
       " '__str__',\n",
       " '__subclasshook__',\n",
       " '__weakref__',\n",
       " 'apply_one_site_gate',\n",
       " 'apply_transfer_operator',\n",
       " 'apply_two_site_gate',\n",
       " 'backend',\n",
       " 'bond_dimension',\n",
       " 'bond_dimensions',\n",
       " 'canonicalize',\n",
       " 'center_position',\n",
       " 'check_canonical',\n",
       " 'check_orthonormality',\n",
       " 'connector_matrix',\n",
       " 'dtype',\n",
       " 'get_tensor',\n",
       " 'left_envs',\n",
       " 'left_transfer_operator',\n",
       " 'measure_local_operator',\n",
       " 'measure_two_body_correlator',\n",
       " 'norm',\n",
       " 'physical_dimensions',\n",
       " 'position',\n",
       " 'qr',\n",
       " 'random',\n",
       " 'right_envs',\n",
       " 'right_transfer_operator',\n",
       " 'rq',\n",
       " 'save',\n",
       " 'svd',\n",
       " 'tensors']"
      ]
     },
     "execution_count": 30,
     "metadata": {},
     "output_type": "execute_result"
    }
   ],
   "source": [
    "dir(tn_mps)"
   ]
  },
  {
   "cell_type": "code",
   "execution_count": 45,
   "metadata": {},
   "outputs": [
    {
     "ename": "TypeError",
     "evalue": "split_node() missing 2 required positional arguments: 'left_edges' and 'right_edges'",
     "output_type": "error",
     "traceback": [
      "\u001b[0;31m---------------------------------------------------------------------------\u001b[0m",
      "\u001b[0;31mTypeError\u001b[0m                                 Traceback (most recent call last)",
      "\u001b[1;32m/home/abhishekabhishek/git/UnsupGenModbyMPS/sandbox/mpd-decomposition.ipynb Cell 22\u001b[0m in \u001b[0;36m<cell line: 1>\u001b[0;34m()\u001b[0m\n\u001b[0;32m----> <a href='vscode-notebook-cell:/home/abhishekabhishek/git/UnsupGenModbyMPS/sandbox/mpd-decomposition.ipynb#X32sZmlsZQ%3D%3D?line=0'>1</a>\u001b[0m u_prime, vh_prime \u001b[39m=\u001b[39m tn\u001b[39m.\u001b[39;49msplit_node(tn_mps\u001b[39m.\u001b[39;49mget_tensor(\u001b[39m1\u001b[39;49m), max_singular_values\u001b[39m=\u001b[39;49m\u001b[39m2\u001b[39;49m)\n",
      "\u001b[0;31mTypeError\u001b[0m: split_node() missing 2 required positional arguments: 'left_edges' and 'right_edges'"
     ]
    }
   ],
   "source": [
    "u_prime, vh_prime = tn.split_node(tn_mps.get_tensor(1), max_singular_values=2)"
   ]
  },
  {
   "cell_type": "code",
   "execution_count": 27,
   "metadata": {},
   "outputs": [
    {
     "data": {
      "text/plain": [
       "((2, 2, 2), (2,), (2, 4))"
      ]
     },
     "execution_count": 27,
     "metadata": {},
     "output_type": "execute_result"
    }
   ],
   "source": [
    "u.shape, s.shape, vh.shape"
   ]
  },
  {
   "cell_type": "code",
   "execution_count": 28,
   "metadata": {},
   "outputs": [
    {
     "name": "stdout",
     "output_type": "stream",
     "text": [
      "idx, core tensor shape, left isometry, right isometry\n",
      "0 (1, 2, 2) True True\n",
      "1 (2, 2, 4) True True\n",
      "2 (4, 2, 4) True False\n",
      "3 (4, 2, 4) True False\n",
      "4 (4, 2, 4) True False\n",
      "5 (4, 2, 4) True False\n",
      "6 (4, 2, 4) True False\n",
      "7 (4, 2, 4) True False\n",
      "8 (4, 2, 4) True False\n",
      "9 (4, 2, 4) True False\n",
      "10 (4, 2, 4) True False\n",
      "11 (4, 2, 4) True False\n",
      "12 (4, 2, 4) True False\n",
      "13 (4, 2, 4) True False\n",
      "14 (4, 2, 2) True False\n",
      "15 (2, 2, 1) True False\n"
     ]
    }
   ],
   "source": [
    "helpers.are_isometries(tn_mps)"
   ]
  },
  {
   "cell_type": "code",
   "execution_count": 101,
   "metadata": {},
   "outputs": [],
   "source": [
    "u, s, vh, _ = tn_mps.svd(tn_mps.get_tensor(1), max_singular_values=100)"
   ]
  },
  {
   "cell_type": "code",
   "execution_count": 82,
   "metadata": {},
   "outputs": [
    {
     "ename": "ValueError",
     "evalue": "operands could not be broadcast together with shapes (2,) (2,4) ",
     "output_type": "error",
     "traceback": [
      "\u001b[0;31m---------------------------------------------------------------------------\u001b[0m",
      "\u001b[0;31mValueError\u001b[0m                                Traceback (most recent call last)",
      "\u001b[1;32m/home/abhishekabhishek/git/UnsupGenModbyMPS/sandbox/mpd-decomposition.ipynb Cell 26\u001b[0m in \u001b[0;36m<cell line: 1>\u001b[0;34m()\u001b[0m\n\u001b[0;32m----> <a href='vscode-notebook-cell:/home/abhishekabhishek/git/UnsupGenModbyMPS/sandbox/mpd-decomposition.ipynb#X36sZmlsZQ%3D%3D?line=0'>1</a>\u001b[0m u \u001b[39m*\u001b[39m (s \u001b[39m*\u001b[39;49m vh)\n",
      "\u001b[0;31mValueError\u001b[0m: operands could not be broadcast together with shapes (2,) (2,4) "
     ]
    }
   ],
   "source": [
    "u * (s * vh)"
   ]
  },
  {
   "cell_type": "code",
   "execution_count": 102,
   "metadata": {},
   "outputs": [
    {
     "data": {
      "text/plain": [
       "(2, 2, 4)"
      ]
     },
     "execution_count": 102,
     "metadata": {},
     "output_type": "execute_result"
    }
   ],
   "source": [
    "u.shape"
   ]
  },
  {
   "cell_type": "code",
   "execution_count": 109,
   "metadata": {},
   "outputs": [
    {
     "data": {
      "text/plain": [
       "array([[[-0.57642012, -0.2736731 ,  0.76962961, -0.02265271],\n",
       "        [-0.49280746,  0.56097758, -0.18838996, -0.63792961]],\n",
       "\n",
       "       [[ 0.51107081,  0.61436119,  0.60029469, -0.03183133],\n",
       "        [-0.40458285,  0.48266709, -0.10874637,  0.769103  ]]])"
      ]
     },
     "execution_count": 109,
     "metadata": {},
     "output_type": "execute_result"
    }
   ],
   "source": [
    "u"
   ]
  },
  {
   "cell_type": "code",
   "execution_count": 104,
   "metadata": {},
   "outputs": [
    {
     "data": {
      "text/plain": [
       "array([[ 0.,  1.],\n",
       "       [ 1.,  0.],\n",
       "       [-0., -0.],\n",
       "       [ 0.,  0.]])"
      ]
     },
     "execution_count": 104,
     "metadata": {},
     "output_type": "execute_result"
    }
   ],
   "source": [
    "vh[:, :2]"
   ]
  },
  {
   "cell_type": "code",
   "execution_count": 110,
   "metadata": {},
   "outputs": [],
   "source": [
    "new_tensor = np.matmul(u[:2], np.matmul(np.diag(s), vh[:, :2]))"
   ]
  },
  {
   "cell_type": "code",
   "execution_count": 111,
   "metadata": {},
   "outputs": [
    {
     "ename": "ValueError",
     "evalue": "operands could not be broadcast together with shapes (2,2,4) (2,2,2) ",
     "output_type": "error",
     "traceback": [
      "\u001b[0;31m---------------------------------------------------------------------------\u001b[0m",
      "\u001b[0;31mValueError\u001b[0m                                Traceback (most recent call last)",
      "\u001b[1;32m/home/abhishekabhishek/git/UnsupGenModbyMPS/sandbox/mpd-decomposition.ipynb Cell 31\u001b[0m in \u001b[0;36m<cell line: 1>\u001b[0;34m()\u001b[0m\n\u001b[0;32m----> <a href='vscode-notebook-cell:/home/abhishekabhishek/git/UnsupGenModbyMPS/sandbox/mpd-decomposition.ipynb#X61sZmlsZQ%3D%3D?line=0'>1</a>\u001b[0m np\u001b[39m.\u001b[39;49mallclose(tn_mps\u001b[39m.\u001b[39;49mget_tensor(\u001b[39m1\u001b[39;49m), new_tensor)\n",
      "File \u001b[0;32m<__array_function__ internals>:180\u001b[0m, in \u001b[0;36mallclose\u001b[0;34m(*args, **kwargs)\u001b[0m\n",
      "File \u001b[0;32m~/anaconda3/envs/dorian/lib/python3.8/site-packages/numpy/core/numeric.py:2265\u001b[0m, in \u001b[0;36mallclose\u001b[0;34m(a, b, rtol, atol, equal_nan)\u001b[0m\n\u001b[1;32m   2194\u001b[0m \u001b[39m@array_function_dispatch\u001b[39m(_allclose_dispatcher)\n\u001b[1;32m   2195\u001b[0m \u001b[39mdef\u001b[39;00m \u001b[39mallclose\u001b[39m(a, b, rtol\u001b[39m=\u001b[39m\u001b[39m1.e-5\u001b[39m, atol\u001b[39m=\u001b[39m\u001b[39m1.e-8\u001b[39m, equal_nan\u001b[39m=\u001b[39m\u001b[39mFalse\u001b[39;00m):\n\u001b[1;32m   2196\u001b[0m     \u001b[39m\"\"\"\u001b[39;00m\n\u001b[1;32m   2197\u001b[0m \u001b[39m    Returns True if two arrays are element-wise equal within a tolerance.\u001b[39;00m\n\u001b[1;32m   2198\u001b[0m \n\u001b[0;32m   (...)\u001b[0m\n\u001b[1;32m   2263\u001b[0m \n\u001b[1;32m   2264\u001b[0m \u001b[39m    \"\"\"\u001b[39;00m\n\u001b[0;32m-> 2265\u001b[0m     res \u001b[39m=\u001b[39m \u001b[39mall\u001b[39m(isclose(a, b, rtol\u001b[39m=\u001b[39;49mrtol, atol\u001b[39m=\u001b[39;49matol, equal_nan\u001b[39m=\u001b[39;49mequal_nan))\n\u001b[1;32m   2266\u001b[0m     \u001b[39mreturn\u001b[39;00m \u001b[39mbool\u001b[39m(res)\n",
      "File \u001b[0;32m<__array_function__ internals>:180\u001b[0m, in \u001b[0;36misclose\u001b[0;34m(*args, **kwargs)\u001b[0m\n",
      "File \u001b[0;32m~/anaconda3/envs/dorian/lib/python3.8/site-packages/numpy/core/numeric.py:2375\u001b[0m, in \u001b[0;36misclose\u001b[0;34m(a, b, rtol, atol, equal_nan)\u001b[0m\n\u001b[1;32m   2373\u001b[0m yfin \u001b[39m=\u001b[39m isfinite(y)\n\u001b[1;32m   2374\u001b[0m \u001b[39mif\u001b[39;00m \u001b[39mall\u001b[39m(xfin) \u001b[39mand\u001b[39;00m \u001b[39mall\u001b[39m(yfin):\n\u001b[0;32m-> 2375\u001b[0m     \u001b[39mreturn\u001b[39;00m within_tol(x, y, atol, rtol)\n\u001b[1;32m   2376\u001b[0m \u001b[39melse\u001b[39;00m:\n\u001b[1;32m   2377\u001b[0m     finite \u001b[39m=\u001b[39m xfin \u001b[39m&\u001b[39m yfin\n",
      "File \u001b[0;32m~/anaconda3/envs/dorian/lib/python3.8/site-packages/numpy/core/numeric.py:2356\u001b[0m, in \u001b[0;36misclose.<locals>.within_tol\u001b[0;34m(x, y, atol, rtol)\u001b[0m\n\u001b[1;32m   2354\u001b[0m \u001b[39mdef\u001b[39;00m \u001b[39mwithin_tol\u001b[39m(x, y, atol, rtol):\n\u001b[1;32m   2355\u001b[0m     \u001b[39mwith\u001b[39;00m errstate(invalid\u001b[39m=\u001b[39m\u001b[39m'\u001b[39m\u001b[39mignore\u001b[39m\u001b[39m'\u001b[39m):\n\u001b[0;32m-> 2356\u001b[0m         \u001b[39mreturn\u001b[39;00m less_equal(\u001b[39mabs\u001b[39m(x\u001b[39m-\u001b[39;49my), atol \u001b[39m+\u001b[39m rtol \u001b[39m*\u001b[39m \u001b[39mabs\u001b[39m(y))\n",
      "\u001b[0;31mValueError\u001b[0m: operands could not be broadcast together with shapes (2,2,4) (2,2,2) "
     ]
    }
   ],
   "source": [
    "np.allclose(tn_mps.get_tensor(1), new_tensor)"
   ]
  },
  {
   "cell_type": "code",
   "execution_count": 97,
   "metadata": {},
   "outputs": [],
   "source": [
    "svh = np.matmul(np.diag(s), vh[:, :2])"
   ]
  },
  {
   "cell_type": "code",
   "execution_count": 98,
   "metadata": {},
   "outputs": [
    {
     "data": {
      "text/plain": [
       "array([[0., 1.],\n",
       "       [1., 0.]])"
      ]
     },
     "execution_count": 98,
     "metadata": {},
     "output_type": "execute_result"
    }
   ],
   "source": [
    "svh"
   ]
  },
  {
   "cell_type": "code",
   "execution_count": 99,
   "metadata": {},
   "outputs": [
    {
     "data": {
      "text/plain": [
       "array([[[-0.57642012, -0.2736731 ],\n",
       "        [-0.49280746,  0.56097758]],\n",
       "\n",
       "       [[ 0.51107081,  0.61436119],\n",
       "        [-0.40458285,  0.48266709]]])"
      ]
     },
     "execution_count": 99,
     "metadata": {},
     "output_type": "execute_result"
    }
   ],
   "source": [
    "u"
   ]
  },
  {
   "cell_type": "code",
   "execution_count": 100,
   "metadata": {},
   "outputs": [
    {
     "data": {
      "text/plain": [
       "array([[[-0.2736731 , -0.57642012],\n",
       "        [ 0.56097758, -0.49280746]],\n",
       "\n",
       "       [[ 0.61436119,  0.51107081],\n",
       "        [ 0.48266709, -0.40458285]]])"
      ]
     },
     "execution_count": 100,
     "metadata": {},
     "output_type": "execute_result"
    }
   ],
   "source": [
    "np.matmul(u, svh)"
   ]
  },
  {
   "cell_type": "code",
   "execution_count": 92,
   "metadata": {},
   "outputs": [
    {
     "data": {
      "text/plain": [
       "(2, 2, 4)"
      ]
     },
     "execution_count": 92,
     "metadata": {},
     "output_type": "execute_result"
    }
   ],
   "source": [
    "new_tensor.shape"
   ]
  },
  {
   "cell_type": "code",
   "execution_count": 69,
   "metadata": {},
   "outputs": [
    {
     "data": {
      "text/plain": [
       "array([[1., 0.],\n",
       "       [0., 1.]])"
      ]
     },
     "execution_count": 69,
     "metadata": {},
     "output_type": "execute_result"
    }
   ],
   "source": [
    "np.diag(s)"
   ]
  },
  {
   "cell_type": "code",
   "execution_count": 71,
   "metadata": {},
   "outputs": [
    {
     "data": {
      "text/plain": [
       "(2, 2, 4)"
      ]
     },
     "execution_count": 71,
     "metadata": {},
     "output_type": "execute_result"
    }
   ],
   "source": [
    "tn_mps.get_tensor(1).shape"
   ]
  },
  {
   "cell_type": "code",
   "execution_count": 10,
   "metadata": {},
   "outputs": [],
   "source": [
    "tn_mps_trun = mps_helpers.truncate_mps(tn_mps, max_singular_values=2)"
   ]
  },
  {
   "cell_type": "code",
   "execution_count": 11,
   "metadata": {},
   "outputs": [
    {
     "data": {
      "text/plain": [
       "<tensornetwork.matrixproductstates.finite_mps.FiniteMPS at 0x7fbac426e430>"
      ]
     },
     "execution_count": 11,
     "metadata": {},
     "output_type": "execute_result"
    }
   ],
   "source": [
    "tn_mps_trun"
   ]
  },
  {
   "cell_type": "code",
   "execution_count": 13,
   "metadata": {},
   "outputs": [
    {
     "data": {
      "text/plain": [
       "([1, 2, 2, 2, 2, 2, 2, 2, 2, 2, 2, 2, 2, 2, 2, 2, 1],\n",
       " [2, 2, 2, 2, 2, 2, 2, 2, 2, 2, 2, 2, 2, 2, 2, 2])"
      ]
     },
     "execution_count": 13,
     "metadata": {},
     "output_type": "execute_result"
    }
   ],
   "source": [
    "tn_mps_trun.bond_dimensions, tn_mps_trun.physical_dimensions"
   ]
  },
  {
   "attachments": {},
   "cell_type": "markdown",
   "metadata": {},
   "source": [
    "So it looks like we have successfully truncated the chi = 4 MPS to chi = 2 MPS"
   ]
  },
  {
   "cell_type": "code",
   "execution_count": 16,
   "metadata": {},
   "outputs": [
    {
     "data": {
      "text/plain": [
       "array([1, 2, 2, 2, 2, 2, 2, 2, 2, 2, 2, 2, 2, 2, 2, 2, 1], dtype=int16)"
      ]
     },
     "execution_count": 16,
     "metadata": {},
     "output_type": "execute_result"
    }
   ],
   "source": [
    "np.array(tn_mps_trun.bond_dimensions, dtype=np.int16)"
   ]
  },
  {
   "cell_type": "code",
   "execution_count": 17,
   "metadata": {},
   "outputs": [
    {
     "data": {
      "text/plain": [
       "16"
      ]
     },
     "execution_count": 17,
     "metadata": {},
     "output_type": "execute_result"
    }
   ],
   "source": [
    "len(tn_mps_trun.tensors)"
   ]
  },
  {
   "cell_type": "code",
   "execution_count": 19,
   "metadata": {},
   "outputs": [
    {
     "data": {
      "text/plain": [
       "numpy.ndarray"
      ]
     },
     "execution_count": 19,
     "metadata": {},
     "output_type": "execute_result"
    }
   ],
   "source": [
    "tn_mps_trun.tensors[0]"
   ]
  },
  {
   "cell_type": "code",
   "execution_count": 20,
   "metadata": {},
   "outputs": [
    {
     "data": {
      "text/plain": [
       "numpy.ndarray"
      ]
     },
     "execution_count": 20,
     "metadata": {},
     "output_type": "execute_result"
    }
   ],
   "source": [
    "type(m.matrices[0])"
   ]
  },
  {
   "cell_type": "code",
   "execution_count": 21,
   "metadata": {},
   "outputs": [],
   "source": [
    "%autoreload\n",
    "mps_trun = mps_helpers.tn_to_mps(tn_mps_trun)"
   ]
  },
  {
   "cell_type": "code",
   "execution_count": 22,
   "metadata": {},
   "outputs": [
    {
     "name": "stdout",
     "output_type": "stream",
     "text": [
      "0 (1, 2, 2)\n",
      "1 (2, 2, 2)\n",
      "2 (2, 2, 2)\n",
      "3 (2, 2, 2)\n",
      "4 (2, 2, 2)\n",
      "5 (2, 2, 2)\n",
      "6 (2, 2, 2)\n",
      "7 (2, 2, 2)\n",
      "8 (2, 2, 2)\n",
      "9 (2, 2, 2)\n",
      "10 (2, 2, 2)\n",
      "11 (2, 2, 2)\n",
      "12 (2, 2, 2)\n",
      "13 (2, 2, 2)\n",
      "14 (2, 2, 2)\n",
      "15 (2, 2, 1)\n"
     ]
    }
   ],
   "source": [
    "# check the properties of the matrices in the MPS\n",
    "for i in range(len(mps_trun.matrices)):\n",
    "    tn_core = mps_trun.matrices[i]\n",
    "    print(i, tn_core.shape)"
   ]
  },
  {
   "cell_type": "code",
   "execution_count": 24,
   "metadata": {},
   "outputs": [
    {
     "name": "stdout",
     "output_type": "stream",
     "text": [
      "padding the mps core tensors\n",
      "idx, shape of the padded tensor, updated bond dimension\n",
      "i = 1, (2, 2, 2), 2\n",
      "i = 2, (2, 2, 2), 2\n",
      "i = 3, (2, 2, 2), 2\n",
      "i = 4, (2, 2, 2), 2\n",
      "i = 5, (2, 2, 2), 2\n",
      "i = 6, (2, 2, 2), 2\n",
      "i = 7, (2, 2, 2), 2\n",
      "i = 8, (2, 2, 2), 2\n",
      "i = 9, (2, 2, 2), 2\n",
      "i = 10, (2, 2, 2), 2\n",
      "i = 11, (2, 2, 2), 2\n",
      "i = 12, (2, 2, 2), 2\n",
      "i = 13, (2, 2, 2), 2\n",
      "i = 14, (2, 2, 2), 2\n",
      "left canonicalizing the padded MPS\n",
      "bond: 0\n",
      "bond: 1\n",
      "bond: 2\n",
      "bond: 3\n",
      "bond: 4\n",
      "bond: 5\n",
      "bond: 6\n",
      "bond: 7\n",
      "bond: 8\n",
      "bond: 9\n",
      "bond: 10\n",
      "bond: 11\n",
      "bond: 12\n",
      "bond: 13\n",
      "bond: 14\n"
     ]
    }
   ],
   "source": [
    "mps_trun_unitaries = helpers.get_mps_unitaries(mps_trun)"
   ]
  },
  {
   "attachments": {},
   "cell_type": "markdown",
   "metadata": {},
   "source": [
    "This is now the most important part - we've been able to extract the list of unitaries corresponding to the truncated chi = 2 MPS.\n",
    "\n",
    "Now, we just have to figure out on how to apply the conjugate transpose of this to the original MPS (i.e. the disentangle step) and contract and truncate (i.e. the iterative step)"
   ]
  },
  {
   "cell_type": "code",
   "execution_count": 25,
   "metadata": {},
   "outputs": [
    {
     "data": {
      "text/plain": [
       "16"
      ]
     },
     "execution_count": 25,
     "metadata": {},
     "output_type": "execute_result"
    }
   ],
   "source": [
    "len(mps_trun_unitaries)"
   ]
  },
  {
   "cell_type": "code",
   "execution_count": 26,
   "metadata": {},
   "outputs": [],
   "source": [
    "mps_circ = mps_circuit.mps_unitaries_to_circuit(mps_trun_unitaries)"
   ]
  },
  {
   "cell_type": "code",
   "execution_count": 27,
   "metadata": {},
   "outputs": [
    {
     "data": {
      "text/plain": [
       "(<Figure size 1368x1224 with 1 Axes>, <Axes: >)"
      ]
     },
     "execution_count": 27,
     "metadata": {},
     "output_type": "execute_result"
    },
    {
     "data": {
      "image/png": "[encoded data removed]",
      "text/plain": [
       "<Figure size 1368x1224 with 1 Axes>"
      ]
     },
     "metadata": {},
     "output_type": "display_data"
    }
   ],
   "source": [
    "qml.drawer.draw_mpl(mps_circ, style=\"sketch\")()"
   ]
  },
  {
   "attachments": {},
   "cell_type": "markdown",
   "metadata": {},
   "source": [
    "So, we need to apply the conjugate dagger of the above circuit to the MPS which pretty much just looks like applying the unitaries in our mps unitaries list to the `tn.FiniteMPS` in a specified order."
   ]
  },
  {
   "attachments": {},
   "cell_type": "markdown",
   "metadata": {},
   "source": [
    "In what order, do we have the unitaries right now"
   ]
  },
  {
   "cell_type": "code",
   "execution_count": 29,
   "metadata": {},
   "outputs": [
    {
     "name": "stdout",
     "output_type": "stream",
     "text": [
      "0 (2, 2)\n",
      "1 (4, 4)\n",
      "2 (4, 4)\n",
      "3 (4, 4)\n",
      "4 (4, 4)\n",
      "5 (4, 4)\n",
      "6 (4, 4)\n",
      "7 (4, 4)\n",
      "8 (4, 4)\n",
      "9 (4, 4)\n",
      "10 (4, 4)\n",
      "11 (4, 4)\n",
      "12 (4, 4)\n",
      "13 (4, 4)\n",
      "14 (4, 4)\n",
      "15 (4, 4)\n"
     ]
    }
   ],
   "source": [
    "for idx, unitary in enumerate(mps_trun_unitaries):\n",
    "    print(idx, unitary.shape)"
   ]
  },
  {
   "attachments": {},
   "cell_type": "markdown",
   "metadata": {},
   "source": [
    "It looks like they're already in the right order - so we just need to do conjugate transpose and make sure we apply them to the correct site"
   ]
  },
  {
   "cell_type": "code",
   "execution_count": 49,
   "metadata": {},
   "outputs": [],
   "source": [
    "disentangler = []\n",
    "for unitary in mps_trun_unitaries:\n",
    "    disentangler.append(unitary.conj().T)"
   ]
  },
  {
   "attachments": {},
   "cell_type": "markdown",
   "metadata": {},
   "source": [
    "So, we've prepared the disentangler - now let's apply this to the MPS using `tensornetwork`:"
   ]
  },
  {
   "cell_type": "code",
   "execution_count": 52,
   "metadata": {},
   "outputs": [],
   "source": [
    "# apply the single site gate first\n",
    "tn_mps.apply_one_site_gate(disentangler[0], site=0)\n",
    "\n",
    "# apply the two site gates (hopefully) in the correct order\n",
    "for idx in range(len(disentangler)-1):\n",
    "    gate = disentangler[idx+1]\n",
    "    gate = gate.reshape(2, 2, 2, 2)\n",
    "    # need to set the center position\n",
    "    tn_mps.center_position = idx\n",
    "    tn_mps.position(idx)\n",
    "    tn_mps.apply_two_site_gate(gate, site1=idx, site2=idx+1,\n",
    "                               max_singular_values=4)"
   ]
  },
  {
   "attachments": {},
   "cell_type": "markdown",
   "metadata": {},
   "source": [
    "**Not sure on the correctness** of the above procedure but let's look at what the resulting MPS looks like"
   ]
  },
  {
   "cell_type": "code",
   "execution_count": 53,
   "metadata": {},
   "outputs": [
    {
     "data": {
      "text/plain": [
       "([1, 2, 4, 4, 4, 4, 4, 4, 4, 4, 4, 4, 4, 4, 4, 2, 1],\n",
       " [2, 2, 2, 2, 2, 2, 2, 2, 2, 2, 2, 2, 2, 2, 2, 2])"
      ]
     },
     "execution_count": 53,
     "metadata": {},
     "output_type": "execute_result"
    }
   ],
   "source": [
    "tn_mps.bond_dimensions, tn_mps.physical_dimensions"
   ]
  },
  {
   "attachments": {},
   "cell_type": "markdown",
   "metadata": {},
   "source": [
    "Ok. That really blew up the bond dimensions from \n",
    "\n",
    "```[1, 2, 4, 4, 4, 4, 4, 4, 4, 4, 4, 4, 4, 4, 4, 2, 1]```\n",
    "\n",
    "to what we have above:\n",
    "\n",
    "```[1, 2, 4, 8, 16, 32, 32, 32, 32, 32, 32, 32, 16, 8, 4, 2, 1]```"
   ]
  },
  {
   "attachments": {},
   "cell_type": "markdown",
   "metadata": {},
   "source": [
    "How and by how much should I truncate the above ? Is the goal to get the bond dimensions back to the original ones and repeat the procedure ?"
   ]
  },
  {
   "attachments": {},
   "cell_type": "markdown",
   "metadata": {},
   "source": [
    "Ok. Looks like we can get the bond dimension under control by truncating using max singular values. Now, can this procedure be done iteratively, and somehow we can get a list of list of unitaries - and check to see if the fidelity goes up compared to the simply mapped MPS."
   ]
  },
  {
   "attachments": {},
   "cell_type": "markdown",
   "metadata": {},
   "source": [
    "Steps:\n",
    "1. Given a MPS $\\psi_{\\chi_{max}}$\n",
    "2. Repeat the following until a no. of maximum 2-qubit layers $K$ or good agreement b/w fidelity of the layered circuit to the true MPS circuit is reached.\n",
    "3. Truncate to chi = 2 : $\\psi^{k}_{\\chi = 2}$\n",
    "4. Get the disentangler corresponding to the $\\psi^{k}_{\\chi = 2}$ MPS\n",
    "5. Apply the disentangler to $\\psi^{k}_{\\chi?}$\n",
    "6. Repeat the process\n",
    "\n",
    "Is there some way to visualize the fidelity as the increase the depth $K$ of the layer circuits ? I guess we should write a function that takes in those list of list of unitaries -> creates a quantum circuit and compute the fidelity w.r.t. to the original MPS circuit"
   ]
  },
  {
   "cell_type": "code",
   "execution_count": null,
   "metadata": {},
   "outputs": [],
   "source": [
    "# convert to a MPScumulant.MPS object and extract the 2-qubit unitaries\n",
    "mps_unitaries = get_mps_unitaries(tn_to_mps(mps))"
   ]
  }
 ],
 "metadata": {
  "kernelspec": {
   "display_name": "dorian",
   "language": "python",
   "name": "dorian"
  },
  "language_info": {
   "codemirror_mode": {
    "name": "ipython",
    "version": 3
   },
   "file_extension": ".py",
   "mimetype": "text/x-python",
   "name": "python",
   "nbconvert_exporter": "python",
   "pygments_lexer": "ipython3",
   "version": "3.8.16"
  },
  "orig_nbformat": 4
 },
 "nbformat": 4,
 "nbformat_minor": 2
}
