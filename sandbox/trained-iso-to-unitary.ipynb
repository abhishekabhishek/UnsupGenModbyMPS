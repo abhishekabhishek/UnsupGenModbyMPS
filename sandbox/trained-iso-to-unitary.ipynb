{
 "cells": [
  {
   "cell_type": "code",
   "execution_count": 1,
   "metadata": {},
   "outputs": [
    {
     "name": "stdout",
     "output_type": "stream",
     "text": [
      "/home/abhishekabhishek/git/UnsupGenModbyMPS\n"
     ]
    }
   ],
   "source": [
    "cd .."
   ]
  },
  {
   "cell_type": "code",
   "execution_count": 2,
   "metadata": {},
   "outputs": [],
   "source": [
    "import numpy as np\n",
    "from MPScumulant import MPS_c"
   ]
  },
  {
   "attachments": {},
   "cell_type": "markdown",
   "metadata": {},
   "source": [
    "### Trying to do the following \n",
    "1. load the trained MPS\n",
    "2. check its bond dimensions\n",
    "3. try to zero-pad it\n",
    "4. try to left-canonicalize again"
   ]
  },
  {
   "cell_type": "code",
   "execution_count": 14,
   "metadata": {},
   "outputs": [],
   "source": [
    "m = MPS_c(16)\n",
    "m.loadMPS('BS-MPS')"
   ]
  },
  {
   "cell_type": "code",
   "execution_count": 15,
   "metadata": {},
   "outputs": [
    {
     "data": {
      "text/plain": [
       "16"
      ]
     },
     "execution_count": 15,
     "metadata": {},
     "output_type": "execute_result"
    }
   ],
   "source": [
    "len(m.matrices)"
   ]
  },
  {
   "cell_type": "code",
   "execution_count": 16,
   "metadata": {},
   "outputs": [
    {
     "name": "stdout",
     "output_type": "stream",
     "text": [
      "0 (2, 1, 2)\n",
      "1 (2, 2, 4)\n",
      "2 (2, 4, 8)\n",
      "3 (2, 8, 15)\n",
      "4 (2, 15, 16)\n",
      "5 (2, 16, 16)\n",
      "6 (2, 16, 16)\n",
      "7 (2, 16, 15)\n",
      "8 (2, 15, 16)\n",
      "9 (2, 16, 16)\n",
      "10 (2, 16, 16)\n",
      "11 (2, 16, 15)\n",
      "12 (2, 15, 8)\n",
      "13 (2, 8, 4)\n",
      "14 (2, 4, 2)\n",
      "15 (2, 2, 1)\n"
     ]
    }
   ],
   "source": [
    "# check the properties of the matrices in the MPS\n",
    "for i in range(len(m.matrices)):\n",
    "    tn_core = np.swapaxes(m.matrices[i], 0, 1)\n",
    "    print(i, tn_core.shape)"
   ]
  },
  {
   "attachments": {},
   "cell_type": "markdown",
   "metadata": {},
   "source": [
    "Try to left-canonicalize the trained MPS"
   ]
  },
  {
   "cell_type": "code",
   "execution_count": 17,
   "metadata": {},
   "outputs": [
    {
     "name": "stdout",
     "output_type": "stream",
     "text": [
      "bond: 14\n"
     ]
    }
   ],
   "source": [
    "m.left_cano()"
   ]
  },
  {
   "cell_type": "code",
   "execution_count": 18,
   "metadata": {},
   "outputs": [
    {
     "name": "stdout",
     "output_type": "stream",
     "text": [
      "0 (2, 1, 2)\n",
      "1 (2, 2, 4)\n",
      "2 (2, 4, 8)\n",
      "3 (2, 8, 15)\n",
      "4 (2, 15, 16)\n",
      "5 (2, 16, 16)\n",
      "6 (2, 16, 16)\n",
      "7 (2, 16, 15)\n",
      "8 (2, 15, 16)\n",
      "9 (2, 16, 16)\n",
      "10 (2, 16, 16)\n",
      "11 (2, 16, 15)\n",
      "12 (2, 15, 8)\n",
      "13 (2, 8, 4)\n",
      "14 (2, 4, 2)\n",
      "15 (2, 2, 1)\n"
     ]
    }
   ],
   "source": [
    "# check the properties of the matrices in the MPS\n",
    "for i in range(len(m.matrices)):\n",
    "    tn_core = np.swapaxes(m.matrices[i], 0, 1)\n",
    "    print(i, tn_core.shape)"
   ]
  },
  {
   "attachments": {},
   "cell_type": "markdown",
   "metadata": {},
   "source": [
    "It looks like nothing changed after performing the left canonicalization of the MPS in terms of the tensor shapes - try to zero pad and do it again\n",
    "\n",
    "this is where the trouble starts - we need to figure out how to zero-pad and left-cano afterwards\n",
    "\n",
    "Idea - Try to do it in their code and see if it works - otherwise do the zero padding and initialize in the TensorNetwork library and do the canonicalization there\n",
    "\n",
    "**Also do note that all core tensors have atleast one bond dim which is a power of two which kind of takes care of the (odd, odd) special case**"
   ]
  },
  {
   "cell_type": "code",
   "execution_count": null,
   "metadata": {},
   "outputs": [],
   "source": []
  }
 ],
 "metadata": {
  "kernelspec": {
   "display_name": "dorian",
   "language": "python",
   "name": "dorian"
  },
  "language_info": {
   "codemirror_mode": {
    "name": "ipython",
    "version": 3
   },
   "file_extension": ".py",
   "mimetype": "text/x-python",
   "name": "python",
   "nbconvert_exporter": "python",
   "pygments_lexer": "ipython3",
   "version": "3.8.16"
  },
  "orig_nbformat": 4
 },
 "nbformat": 4,
 "nbformat_minor": 2
}
