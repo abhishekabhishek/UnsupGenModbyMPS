{
 "cells": [
  {
   "cell_type": "code",
   "execution_count": 1,
   "metadata": {},
   "outputs": [
    {
     "name": "stdout",
     "output_type": "stream",
     "text": [
      "/home/abhishekabhishek/git/UnsupGenModbyMPS\n"
     ]
    }
   ],
   "source": [
    "cd .."
   ]
  },
  {
   "cell_type": "code",
   "execution_count": 2,
   "metadata": {},
   "outputs": [],
   "source": [
    "import numpy as np\n",
    "from MPScumulant import MPS_c"
   ]
  },
  {
   "attachments": {},
   "cell_type": "markdown",
   "metadata": {},
   "source": [
    "### Trying to do the following \n",
    "1. load the trained MPS\n",
    "2. check its bond dimensions\n",
    "3. try to zero-pad it\n",
    "4. try to left-canonicalize again"
   ]
  },
  {
   "cell_type": "code",
   "execution_count": 3,
   "metadata": {},
   "outputs": [],
   "source": [
    "m = MPS_c(16)\n",
    "m.loadMPS('BS-MPS')"
   ]
  },
  {
   "cell_type": "code",
   "execution_count": 4,
   "metadata": {},
   "outputs": [
    {
     "data": {
      "text/plain": [
       "16"
      ]
     },
     "execution_count": 4,
     "metadata": {},
     "output_type": "execute_result"
    }
   ],
   "source": [
    "len(m.matrices)"
   ]
  },
  {
   "cell_type": "code",
   "execution_count": 5,
   "metadata": {},
   "outputs": [
    {
     "name": "stdout",
     "output_type": "stream",
     "text": [
      "0 (2, 1, 2)\n",
      "1 (2, 2, 4)\n",
      "2 (2, 4, 8)\n",
      "3 (2, 8, 15)\n",
      "4 (2, 15, 16)\n",
      "5 (2, 16, 16)\n",
      "6 (2, 16, 16)\n",
      "7 (2, 16, 15)\n",
      "8 (2, 15, 16)\n",
      "9 (2, 16, 16)\n",
      "10 (2, 16, 16)\n",
      "11 (2, 16, 15)\n",
      "12 (2, 15, 8)\n",
      "13 (2, 8, 4)\n",
      "14 (2, 4, 2)\n",
      "15 (2, 2, 1)\n"
     ]
    }
   ],
   "source": [
    "# check the properties of the matrices in the MPS\n",
    "for i in range(len(m.matrices)):\n",
    "    tn_core = np.swapaxes(m.matrices[i], 0, 1)\n",
    "    print(i, tn_core.shape)"
   ]
  },
  {
   "cell_type": "code",
   "execution_count": 6,
   "metadata": {},
   "outputs": [
    {
     "data": {
      "text/plain": [
       "array([ 2,  4,  8, 15, 16, 16, 16, 15, 16, 16, 16, 15,  8,  4,  2,  1],\n",
       "      dtype=int16)"
      ]
     },
     "execution_count": 6,
     "metadata": {},
     "output_type": "execute_result"
    }
   ],
   "source": [
    "m.bond_dimension"
   ]
  },
  {
   "cell_type": "code",
   "execution_count": 7,
   "metadata": {},
   "outputs": [
    {
     "data": {
      "text/plain": [
       "16"
      ]
     },
     "execution_count": 7,
     "metadata": {},
     "output_type": "execute_result"
    }
   ],
   "source": [
    "len(m.bond_dimension)"
   ]
  },
  {
   "attachments": {},
   "cell_type": "markdown",
   "metadata": {},
   "source": [
    "Try to left-canonicalize the trained MPS - maybe let's not do this before padding"
   ]
  },
  {
   "cell_type": "code",
   "execution_count": 8,
   "metadata": {},
   "outputs": [],
   "source": [
    "# m.left_cano()"
   ]
  },
  {
   "cell_type": "code",
   "execution_count": 9,
   "metadata": {},
   "outputs": [
    {
     "name": "stdout",
     "output_type": "stream",
     "text": [
      "0 (1, 2, 2)\n",
      "1 (2, 2, 4)\n",
      "2 (4, 2, 8)\n",
      "3 (8, 2, 15)\n",
      "4 (15, 2, 16)\n",
      "5 (16, 2, 16)\n",
      "6 (16, 2, 16)\n",
      "7 (16, 2, 15)\n",
      "8 (15, 2, 16)\n",
      "9 (16, 2, 16)\n",
      "10 (16, 2, 16)\n",
      "11 (16, 2, 15)\n",
      "12 (15, 2, 8)\n",
      "13 (8, 2, 4)\n",
      "14 (4, 2, 2)\n",
      "15 (2, 2, 1)\n"
     ]
    }
   ],
   "source": [
    "# check the properties of the matrices in the MPS\n",
    "for i in range(len(m.matrices)):\n",
    "    #tn_core = np.swapaxes(m.matrices[i], 0, 1)\n",
    "    tn_core = m.matrices[i]\n",
    "    print(i, tn_core.shape)"
   ]
  },
  {
   "attachments": {},
   "cell_type": "markdown",
   "metadata": {},
   "source": [
    "It looks like nothing changed after performing the left canonicalization of the MPS in terms of the tensor shapes - try to zero pad and do it again\n",
    "\n",
    "this is where the trouble starts - we need to figure out how to zero-pad and left-cano afterwards\n",
    "\n",
    "Idea - Try to do it in their code and see if it works - otherwise do the zero padding and initialize in the TensorNetwork library and do the canonicalization there\n",
    "\n",
    "**Also do note that all core tensors have atleast one bond dim which is a power of two which kind of takes care of the (odd, odd) special case**"
   ]
  },
  {
   "cell_type": "code",
   "execution_count": 12,
   "metadata": {},
   "outputs": [
    {
     "name": "stdout",
     "output_type": "stream",
     "text": [
      "i = 1, (2, 2, 4), 2\n",
      "i = 2, (4, 2, 8), 4\n",
      "i = 3, (8, 2, 16), 8\n",
      "i = 4, (16, 2, 16), 16\n",
      "i = 5, (16, 2, 16), 16\n",
      "i = 6, (16, 2, 16), 16\n",
      "i = 7, (16, 2, 16), 16\n",
      "i = 8, (16, 2, 16), 16\n",
      "i = 9, (16, 2, 16), 16\n",
      "i = 10, (16, 2, 16), 16\n",
      "i = 11, (16, 2, 16), 16\n",
      "i = 12, (16, 2, 8), 16\n",
      "i = 13, (8, 2, 4), 8\n",
      "i = 14, (4, 2, 2), 4\n"
     ]
    }
   ],
   "source": [
    "# try to zero pad the TN core to make them powers of two\n",
    "new_core_mats = m.matrices.copy()\n",
    "new_bond_dims = m.bond_dimension.copy()\n",
    "for i in range(1, len(m.matrices)-1):\n",
    "    core_mat = m.matrices[i]\n",
    "    pad_width_list = []\n",
    "    for dim in range(len(core_mat.shape)):\n",
    "        if core_mat.shape[dim]%2 == 0:\n",
    "            pad_width_list.append((0, 0))\n",
    "        else:\n",
    "            pad_width_list.append((0, 1))\n",
    "    core_mat = np.pad(core_mat, pad_width_list, mode='constant',\n",
    "                           constant_values=0)\n",
    "    new_core_mats[i] = core_mat\n",
    "    new_bond_dims[i-1] = core_mat.shape[0]\n",
    "    print(f\"i = {i}, {core_mat.shape}, {core_mat.shape[0]}\")          "
   ]
  },
  {
   "cell_type": "code",
   "execution_count": 15,
   "metadata": {},
   "outputs": [],
   "source": [
    "# create a new MPS with padded core tensors\n",
    "m_pad = MPS_c(16)\n",
    "m_pad.matrices = new_core_mats\n",
    "m_pad.bond_dimension = new_bond_dims"
   ]
  },
  {
   "cell_type": "code",
   "execution_count": 16,
   "metadata": {},
   "outputs": [
    {
     "name": "stdout",
     "output_type": "stream",
     "text": [
      "0 (1, 2, 2)\n",
      "1 (2, 2, 4)\n",
      "2 (4, 2, 8)\n",
      "3 (8, 2, 16)\n",
      "4 (16, 2, 16)\n",
      "5 (16, 2, 16)\n",
      "6 (16, 2, 16)\n",
      "7 (16, 2, 16)\n",
      "8 (16, 2, 16)\n",
      "9 (16, 2, 16)\n",
      "10 (16, 2, 16)\n",
      "11 (16, 2, 16)\n",
      "12 (16, 2, 8)\n",
      "13 (8, 2, 4)\n",
      "14 (4, 2, 2)\n",
      "15 (2, 2, 1)\n"
     ]
    },
    {
     "data": {
      "text/plain": [
       "array([ 2,  4,  8, 16, 16, 16, 16, 16, 16, 16, 16, 16,  8,  4,  2,  1],\n",
       "      dtype=int16)"
      ]
     },
     "execution_count": 16,
     "metadata": {},
     "output_type": "execute_result"
    }
   ],
   "source": [
    "# check the properties of the matrices in the MPS\n",
    "for i in range(len(m_pad.matrices)):\n",
    "    #tn_core = np.swapaxes(m.matrices[i], 0, 1)\n",
    "    tn_core = m_pad.matrices[i]\n",
    "    print(i, tn_core.shape)\n",
    "    \n",
    "m_pad.bond_dimension"
   ]
  },
  {
   "cell_type": "code",
   "execution_count": 17,
   "metadata": {},
   "outputs": [
    {
     "name": "stdout",
     "output_type": "stream",
     "text": [
      "0 (1, 2, 2)\n",
      "1 (2, 2, 4)\n",
      "2 (4, 2, 8)\n",
      "3 (8, 2, 15)\n",
      "4 (15, 2, 16)\n",
      "5 (16, 2, 16)\n",
      "6 (16, 2, 16)\n",
      "7 (16, 2, 15)\n",
      "8 (15, 2, 16)\n",
      "9 (16, 2, 16)\n",
      "10 (16, 2, 16)\n",
      "11 (16, 2, 15)\n",
      "12 (15, 2, 8)\n",
      "13 (8, 2, 4)\n",
      "14 (4, 2, 2)\n",
      "15 (2, 2, 1)\n"
     ]
    },
    {
     "data": {
      "text/plain": [
       "array([ 2,  4,  8, 15, 16, 16, 16, 15, 16, 16, 16, 15,  8,  4,  2,  1],\n",
       "      dtype=int16)"
      ]
     },
     "execution_count": 17,
     "metadata": {},
     "output_type": "execute_result"
    }
   ],
   "source": [
    "# compare the above with the original MPS\n",
    "# check the properties of the matrices in the MPS\n",
    "for i in range(len(m.matrices)):\n",
    "    #tn_core = np.swapaxes(m.matrices[i], 0, 1)\n",
    "    tn_core = m.matrices[i]\n",
    "    print(i, tn_core.shape)\n",
    "    \n",
    "m.bond_dimension"
   ]
  },
  {
   "attachments": {},
   "cell_type": "markdown",
   "metadata": {},
   "source": [
    "Try to left-canonicalize the padded MPS"
   ]
  },
  {
   "cell_type": "code",
   "execution_count": 18,
   "metadata": {},
   "outputs": [
    {
     "name": "stdout",
     "output_type": "stream",
     "text": [
      "bond: 0\n",
      "bond: 1\n",
      "bond: 2\n",
      "bond: 3\n",
      "bond: 4\n",
      "bond: 5\n",
      "bond: 6\n",
      "bond: 7\n",
      "bond: 8\n",
      "bond: 9\n",
      "bond: 10\n",
      "bond: 11\n",
      "bond: 12\n",
      "bond: 13\n",
      "bond: 14\n"
     ]
    }
   ],
   "source": [
    "m_pad.left_cano()"
   ]
  },
  {
   "cell_type": "code",
   "execution_count": 19,
   "metadata": {},
   "outputs": [
    {
     "name": "stdout",
     "output_type": "stream",
     "text": [
      "0 (1, 2, 2)\n",
      "1 (2, 2, 4)\n",
      "2 (4, 2, 8)\n",
      "3 (8, 2, 16)\n",
      "4 (16, 2, 16)\n",
      "5 (16, 2, 16)\n",
      "6 (16, 2, 16)\n",
      "7 (16, 2, 16)\n",
      "8 (16, 2, 16)\n",
      "9 (16, 2, 16)\n",
      "10 (16, 2, 16)\n",
      "11 (16, 2, 16)\n",
      "12 (16, 2, 8)\n",
      "13 (8, 2, 4)\n",
      "14 (4, 2, 2)\n",
      "15 (2, 2, 1)\n"
     ]
    },
    {
     "data": {
      "text/plain": [
       "array([ 2,  4,  8, 16, 16, 16, 16, 16, 16, 16, 16, 16,  8,  4,  2,  1],\n",
       "      dtype=int16)"
      ]
     },
     "execution_count": 19,
     "metadata": {},
     "output_type": "execute_result"
    }
   ],
   "source": [
    "# check the properties of the matrices in the MPS (after left canonicalization)\n",
    "for i in range(len(m_pad.matrices)):\n",
    "    #tn_core = np.swapaxes(m.matrices[i], 0, 1)\n",
    "    tn_core = m_pad.matrices[i]\n",
    "    print(i, tn_core.shape)\n",
    "    \n",
    "m_pad.bond_dimension"
   ]
  },
  {
   "attachments": {},
   "cell_type": "markdown",
   "metadata": {},
   "source": [
    "compare with the sizes and bdims before left canonicalization:\n",
    "\n",
    "```\n",
    "0 (1, 2, 2)\n",
    "1 (2, 2, 4)\n",
    "2 (4, 2, 8)\n",
    "3 (8, 2, 16)\n",
    "4 (16, 2, 16)\n",
    "5 (16, 2, 16)\n",
    "6 (16, 2, 16)\n",
    "7 (16, 2, 16)\n",
    "8 (16, 2, 16)\n",
    "9 (16, 2, 16)\n",
    "10 (16, 2, 16)\n",
    "11 (16, 2, 16)\n",
    "12 (16, 2, 8)\n",
    "13 (8, 2, 4)\n",
    "14 (4, 2, 2)\n",
    "15 (2, 2, 1)\n",
    "array([ 2,  4,  8, 16, 16, 16, 16, 16, 16, 16, 16, 16,  8,  4,  2,  1],\n",
    "      dtype=int16)\n",
    "```\n",
    "#### It's the same - no $2^{n+1}$ stuff going as the decomposition paper claims - we can check if the resulting matrices are actually isometries"
   ]
  }
 ],
 "metadata": {
  "kernelspec": {
   "display_name": "dorian",
   "language": "python",
   "name": "dorian"
  },
  "language_info": {
   "codemirror_mode": {
    "name": "ipython",
    "version": 3
   },
   "file_extension": ".py",
   "mimetype": "text/x-python",
   "name": "python",
   "nbconvert_exporter": "python",
   "pygments_lexer": "ipython3",
   "version": "3.8.16"
  },
  "orig_nbformat": 4
 },
 "nbformat": 4,
 "nbformat_minor": 2
}
