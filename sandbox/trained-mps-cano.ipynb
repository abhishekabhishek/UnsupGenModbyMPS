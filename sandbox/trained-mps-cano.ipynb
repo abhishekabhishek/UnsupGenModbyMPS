{
 "cells": [
  {
   "attachments": {},
   "cell_type": "markdown",
   "metadata": {},
   "source": [
    "Goal : Figure out the canonicalization of the trained MPS"
   ]
  },
  {
   "cell_type": "code",
   "execution_count": 1,
   "metadata": {},
   "outputs": [
    {
     "name": "stdout",
     "output_type": "stream",
     "text": [
      "/home/abhishekabhishek/git/UnsupGenModbyMPS\n"
     ]
    }
   ],
   "source": [
    "cd .."
   ]
  },
  {
   "cell_type": "code",
   "execution_count": 2,
   "metadata": {},
   "outputs": [],
   "source": [
    "import numpy as np\n",
    "from MPScumulant import MPS_c"
   ]
  },
  {
   "cell_type": "code",
   "execution_count": 27,
   "metadata": {},
   "outputs": [
    {
     "name": "stdout",
     "output_type": "stream",
     "text": [
      "0 (1, 2, 2)\n",
      "1 (2, 2, 4)\n",
      "2 (4, 2, 8)\n",
      "3 (8, 2, 15)\n",
      "4 (15, 2, 16)\n",
      "5 (16, 2, 16)\n",
      "6 (16, 2, 16)\n",
      "7 (16, 2, 15)\n",
      "8 (15, 2, 16)\n",
      "9 (16, 2, 16)\n",
      "10 (16, 2, 16)\n",
      "11 (16, 2, 15)\n",
      "12 (15, 2, 8)\n",
      "13 (8, 2, 4)\n",
      "14 (4, 2, 2)\n",
      "15 (2, 2, 1)\n"
     ]
    }
   ],
   "source": [
    "m = MPS_c(16)\n",
    "m.loadMPS('BS-MPS')\n",
    "\n",
    "# check the properties of the matrices in the MPS\n",
    "for i in range(len(m.matrices)):\n",
    "    #tn_core = np.swapaxes(m.matrices[i], 0, 1)\n",
    "    tn_core = m.matrices[i]\n",
    "    print(i, tn_core.shape)"
   ]
  },
  {
   "attachments": {},
   "cell_type": "markdown",
   "metadata": {},
   "source": [
    "Assuming the MPS is left-canonicalized - check the normalization conditions"
   ]
  },
  {
   "cell_type": "code",
   "execution_count": 28,
   "metadata": {},
   "outputs": [
    {
     "name": "stdout",
     "output_type": "stream",
     "text": [
      "(1, 2, 2)\n"
     ]
    }
   ],
   "source": [
    "mat_0 = m.matrices[0]\n",
    "print(mat_0.shape)"
   ]
  },
  {
   "attachments": {},
   "cell_type": "markdown",
   "metadata": {},
   "source": [
    "Reshape to the left"
   ]
  },
  {
   "cell_type": "code",
   "execution_count": 29,
   "metadata": {},
   "outputs": [
    {
     "name": "stdout",
     "output_type": "stream",
     "text": [
      "(2, 2)\n"
     ]
    }
   ],
   "source": [
    "mat_0 = mat_0.reshape(-1, mat_0.shape[2])\n",
    "print(mat_0.shape)"
   ]
  },
  {
   "cell_type": "code",
   "execution_count": 30,
   "metadata": {},
   "outputs": [
    {
     "data": {
      "text/plain": [
       "array([[1.0000000e+00, 2.1222909e-17],\n",
       "       [2.1222909e-17, 1.0000000e+00]])"
      ]
     },
     "execution_count": 30,
     "metadata": {},
     "output_type": "execute_result"
    }
   ],
   "source": [
    "np.matmul(mat_0.conj().T, mat_0)"
   ]
  },
  {
   "attachments": {},
   "cell_type": "markdown",
   "metadata": {},
   "source": [
    "Check the canonicalization of the matrices in the trained MPS"
   ]
  },
  {
   "cell_type": "code",
   "execution_count": 37,
   "metadata": {},
   "outputs": [],
   "source": [
    "def check_isometries(mps):\n",
    "    for i in range(len(mps.matrices)):\n",
    "        tn_core = mps.matrices[i]\n",
    "        \n",
    "        # convert the order-3 core tensor to a matrix\n",
    "        core_mat = tn_core.reshape(-1, tn_core.shape[2])\n",
    "        \n",
    "        # check if the matrices are isometries or unitary\n",
    "        left_isometry = np.allclose(\n",
    "            np.eye(core_mat.shape[1]),\n",
    "            np.matmul(core_mat.conj().T, core_mat)\n",
    "        )\n",
    "        \n",
    "        right_isometry = np.allclose(\n",
    "            np.eye(core_mat.shape[0]),\n",
    "            np.matmul(core_mat, core_mat.conj().T)\n",
    "        )\n",
    "        \n",
    "        print(i, tn_core.shape, left_isometry, right_isometry)"
   ]
  },
  {
   "cell_type": "code",
   "execution_count": 31,
   "metadata": {},
   "outputs": [
    {
     "name": "stdout",
     "output_type": "stream",
     "text": [
      "0 (1, 2, 2) True True\n",
      "1 (2, 2, 4) True True\n",
      "2 (4, 2, 8) True True\n",
      "3 (8, 2, 15) True False\n",
      "4 (15, 2, 16) True False\n",
      "5 (16, 2, 16) True False\n",
      "6 (16, 2, 16) True False\n",
      "7 (16, 2, 15) True False\n",
      "8 (15, 2, 16) True False\n",
      "9 (16, 2, 16) True False\n",
      "10 (16, 2, 16) True False\n",
      "11 (16, 2, 15) True False\n",
      "12 (15, 2, 8) True False\n",
      "13 (8, 2, 4) True False\n",
      "14 (4, 2, 2) False False\n",
      "15 (2, 2, 1) False False\n"
     ]
    }
   ],
   "source": [
    "# check the properties of the matrices in the MPS\n",
    "for i in range(len(m.matrices)):\n",
    "    tn_core = m.matrices[i]\n",
    "    \n",
    "    # convert the order-3 core tensor to a matrix\n",
    "    core_mat = tn_core.reshape(-1, tn_core.shape[2])\n",
    "    \n",
    "    # check if the matrices are isometries or unitary\n",
    "    left_isometry = np.allclose(\n",
    "        np.eye(core_mat.shape[1]),\n",
    "        np.matmul(core_mat.conj().T, core_mat)\n",
    "    )\n",
    "    \n",
    "    right_isometry = np.allclose(\n",
    "        np.eye(core_mat.shape[0]),\n",
    "        np.matmul(core_mat, core_mat.conj().T)\n",
    "    )\n",
    "    \n",
    "    print(i, tn_core.shape, left_isometry, right_isometry)"
   ]
  },
  {
   "attachments": {},
   "cell_type": "markdown",
   "metadata": {},
   "source": [
    "For some reason this is true upto tensor idx 13, and then this is no longer the case - **is this the case in general for left canonicalized MPS ?**\n",
    "\n",
    "Also, check reshaping along the other axes:"
   ]
  },
  {
   "cell_type": "code",
   "execution_count": 18,
   "metadata": {},
   "outputs": [
    {
     "name": "stdout",
     "output_type": "stream",
     "text": [
      "0 (1, 2, 2) False False\n",
      "1 (2, 2, 4) False False\n",
      "2 (4, 2, 8) False False\n",
      "3 (8, 2, 15) False False\n",
      "4 (15, 2, 16) False False\n",
      "5 (16, 2, 16) False False\n",
      "6 (16, 2, 16) False False\n",
      "7 (16, 2, 15) False False\n",
      "8 (15, 2, 16) False False\n",
      "9 (16, 2, 16) False False\n",
      "10 (16, 2, 16) False False\n",
      "11 (16, 2, 15) False False\n",
      "12 (15, 2, 8) False False\n",
      "13 (8, 2, 4) False False\n",
      "14 (4, 2, 2) False False\n",
      "15 (2, 2, 1) True True\n"
     ]
    }
   ],
   "source": [
    "# check the properties of the matrices in the MPS\n",
    "for i in range(len(m.matrices)):\n",
    "    tn_core = m.matrices[i]\n",
    "    \n",
    "    # convert the order-3 core tensor to a matrix\n",
    "    core_mat = tn_core.reshape(tn_core.shape[0], -1)\n",
    "    \n",
    "    # check if the matrices are isometries or unitary\n",
    "    left_isometry = np.allclose(\n",
    "        np.eye(core_mat.shape[1]),\n",
    "        np.matmul(core_mat.conj().T, core_mat)\n",
    "    )\n",
    "    \n",
    "    right_isometry = np.allclose(\n",
    "        np.eye(core_mat.shape[0]),\n",
    "        np.matmul(core_mat, core_mat.conj().T)\n",
    "    )\n",
    "    \n",
    "    print(i, tn_core.shape, left_isometry, right_isometry)"
   ]
  },
  {
   "attachments": {},
   "cell_type": "markdown",
   "metadata": {},
   "source": [
    "ok, so this looks promising - we should be reshaping by the combining the first virtual axis with the physical axis\n",
    "\n",
    "**Does calling `left_cano()` on this change anything?**"
   ]
  },
  {
   "cell_type": "code",
   "execution_count": 20,
   "metadata": {},
   "outputs": [],
   "source": [
    "# create a copy of the MPS \n",
    "m_copy = MPS_c(16)\n",
    "m_copy.matrices = m.matrices\n",
    "m_copy.bond_dimension = m.bond_dimension"
   ]
  },
  {
   "cell_type": "code",
   "execution_count": 21,
   "metadata": {},
   "outputs": [
    {
     "name": "stdout",
     "output_type": "stream",
     "text": [
      "bond: 0\n",
      "bond: 1\n",
      "bond: 2\n",
      "bond: 3\n",
      "bond: 4\n",
      "bond: 5\n",
      "bond: 6\n",
      "bond: 7\n",
      "bond: 8\n",
      "bond: 9\n",
      "bond: 10\n",
      "bond: 11\n",
      "bond: 12\n",
      "bond: 13\n",
      "bond: 14\n"
     ]
    }
   ],
   "source": [
    "m_copy.left_cano()"
   ]
  },
  {
   "cell_type": "code",
   "execution_count": 22,
   "metadata": {},
   "outputs": [
    {
     "name": "stdout",
     "output_type": "stream",
     "text": [
      "0 (1, 2, 2) True True\n",
      "1 (2, 2, 4) True True\n",
      "2 (4, 2, 8) True True\n",
      "3 (8, 2, 15) True False\n",
      "4 (15, 2, 16) True False\n",
      "5 (16, 2, 16) True False\n",
      "6 (16, 2, 16) True False\n",
      "7 (16, 2, 15) True False\n",
      "8 (15, 2, 16) True False\n",
      "9 (16, 2, 16) True False\n",
      "10 (16, 2, 16) True False\n",
      "11 (16, 2, 15) True False\n",
      "12 (15, 2, 8) True False\n",
      "13 (8, 2, 4) True False\n",
      "14 (4, 2, 2) True False\n",
      "15 (2, 2, 1) True False\n"
     ]
    }
   ],
   "source": [
    "# check the properties of the matrices in the MPS\n",
    "for i in range(len(m.matrices)):\n",
    "    tn_core = m.matrices[i]\n",
    "    \n",
    "    # convert the order-3 core tensor to a matrix\n",
    "    core_mat = tn_core.reshape(-1, tn_core.shape[2])\n",
    "    \n",
    "    # check if the matrices are isometries or unitary\n",
    "    left_isometry = np.allclose(\n",
    "        np.eye(core_mat.shape[1]),\n",
    "        np.matmul(core_mat.conj().T, core_mat)\n",
    "    )\n",
    "    \n",
    "    right_isometry = np.allclose(\n",
    "        np.eye(core_mat.shape[0]),\n",
    "        np.matmul(core_mat, core_mat.conj().T)\n",
    "    )\n",
    "    \n",
    "    print(i, tn_core.shape, left_isometry, right_isometry)"
   ]
  },
  {
   "attachments": {},
   "cell_type": "markdown",
   "metadata": {},
   "source": [
    "Looks like that made all the core tensors in the MPS - left isometries - which is good news! - now we can try padding with 0 and repeating this process"
   ]
  },
  {
   "cell_type": "code",
   "execution_count": 32,
   "metadata": {},
   "outputs": [
    {
     "name": "stdout",
     "output_type": "stream",
     "text": [
      "i = 1, (2, 2, 4), 2\n",
      "i = 2, (4, 2, 8), 4\n",
      "i = 3, (8, 2, 16), 8\n",
      "i = 4, (16, 2, 16), 16\n",
      "i = 5, (16, 2, 16), 16\n",
      "i = 6, (16, 2, 16), 16\n",
      "i = 7, (16, 2, 16), 16\n",
      "i = 8, (16, 2, 16), 16\n",
      "i = 9, (16, 2, 16), 16\n",
      "i = 10, (16, 2, 16), 16\n",
      "i = 11, (16, 2, 16), 16\n",
      "i = 12, (16, 2, 8), 16\n",
      "i = 13, (8, 2, 4), 8\n",
      "i = 14, (4, 2, 2), 4\n"
     ]
    }
   ],
   "source": [
    "# try to zero pad the TN core to make them powers of two\n",
    "new_core_mats = m.matrices.copy()\n",
    "new_bond_dims = m.bond_dimension.copy()\n",
    "for i in range(1, len(m.matrices)-1):\n",
    "    core_mat = m.matrices[i]\n",
    "    pad_width_list = []\n",
    "    for dim in range(len(core_mat.shape)):\n",
    "        if core_mat.shape[dim]%2 == 0:\n",
    "            pad_width_list.append((0, 0))\n",
    "        else:\n",
    "            pad_width_list.append((0, 1))\n",
    "    core_mat = np.pad(core_mat, pad_width_list, mode='constant',\n",
    "                           constant_values=0)\n",
    "    new_core_mats[i] = core_mat\n",
    "    new_bond_dims[i-1] = core_mat.shape[0]\n",
    "    print(f\"i = {i}, {core_mat.shape}, {core_mat.shape[0]}\")"
   ]
  },
  {
   "cell_type": "code",
   "execution_count": 33,
   "metadata": {},
   "outputs": [],
   "source": [
    "# create a new MPS with padded core tensors\n",
    "m_pad = MPS_c(16)\n",
    "m_pad.matrices = new_core_mats\n",
    "m_pad.bond_dimension = new_bond_dims"
   ]
  },
  {
   "cell_type": "code",
   "execution_count": 34,
   "metadata": {},
   "outputs": [
    {
     "name": "stdout",
     "output_type": "stream",
     "text": [
      "0 (1, 2, 2)\n",
      "1 (2, 2, 4)\n",
      "2 (4, 2, 8)\n",
      "3 (8, 2, 16)\n",
      "4 (16, 2, 16)\n",
      "5 (16, 2, 16)\n",
      "6 (16, 2, 16)\n",
      "7 (16, 2, 16)\n",
      "8 (16, 2, 16)\n",
      "9 (16, 2, 16)\n",
      "10 (16, 2, 16)\n",
      "11 (16, 2, 16)\n",
      "12 (16, 2, 8)\n",
      "13 (8, 2, 4)\n",
      "14 (4, 2, 2)\n",
      "15 (2, 2, 1)\n"
     ]
    },
    {
     "data": {
      "text/plain": [
       "array([ 2,  4,  8, 16, 16, 16, 16, 16, 16, 16, 16, 16,  8,  4,  2,  1],\n",
       "      dtype=int16)"
      ]
     },
     "execution_count": 34,
     "metadata": {},
     "output_type": "execute_result"
    }
   ],
   "source": [
    "# check the properties of the matrices in the MPS with padded core tensors\n",
    "for i in range(len(m_pad.matrices)):\n",
    "    tn_core = m_pad.matrices[i]\n",
    "    print(i, tn_core.shape)\n",
    "    \n",
    "m_pad.bond_dimension"
   ]
  },
  {
   "cell_type": "code",
   "execution_count": 36,
   "metadata": {},
   "outputs": [
    {
     "name": "stdout",
     "output_type": "stream",
     "text": [
      "0 (1, 2, 2) True True\n",
      "1 (2, 2, 4) True True\n",
      "2 (4, 2, 8) True True\n",
      "3 (8, 2, 16) False False\n",
      "4 (16, 2, 16) True False\n",
      "5 (16, 2, 16) True False\n",
      "6 (16, 2, 16) True False\n",
      "7 (16, 2, 16) False False\n",
      "8 (16, 2, 16) True False\n",
      "9 (16, 2, 16) True False\n",
      "10 (16, 2, 16) True False\n",
      "11 (16, 2, 16) False False\n",
      "12 (16, 2, 8) True False\n",
      "13 (8, 2, 4) True False\n",
      "14 (4, 2, 2) False False\n",
      "15 (2, 2, 1) False False\n"
     ]
    }
   ],
   "source": [
    "# check the properties of the matrices in the MPS\n",
    "for i in range(len(m_pad.matrices)):\n",
    "    tn_core = m_pad.matrices[i]\n",
    "    \n",
    "    # convert the order-3 core tensor to a matrix\n",
    "    core_mat = tn_core.reshape(-1, tn_core.shape[2])\n",
    "    \n",
    "    # check if the matrices are isometries or unitary\n",
    "    left_isometry = np.allclose(\n",
    "        np.eye(core_mat.shape[1]),\n",
    "        np.matmul(core_mat.conj().T, core_mat)\n",
    "    )\n",
    "    \n",
    "    right_isometry = np.allclose(\n",
    "        np.eye(core_mat.shape[0]),\n",
    "        np.matmul(core_mat, core_mat.conj().T)\n",
    "    )\n",
    "    \n",
    "    print(i, tn_core.shape, left_isometry, right_isometry)"
   ]
  },
  {
   "attachments": {},
   "cell_type": "markdown",
   "metadata": {},
   "source": [
    "The matrices at idxs `[3, 7, 11]` are no longer left-isometries which they were previously. It's interesting to see that even after padding with zeros - the core tensors at `[4, 8, 12]` are still left isometries - **does this have something to do with the axis along which zeros are padded?**\n",
    "\n",
    "Anyways, do a left canonicalization on the padded MPS and check if the resulting core tensors are left-isometries"
   ]
  },
  {
   "cell_type": "code",
   "execution_count": 39,
   "metadata": {},
   "outputs": [
    {
     "name": "stdout",
     "output_type": "stream",
     "text": [
      "bond: 0\n",
      "bond: 1\n",
      "bond: 2\n",
      "bond: 3\n",
      "bond: 4\n",
      "bond: 5\n",
      "bond: 6\n",
      "bond: 7\n",
      "bond: 8\n",
      "bond: 9\n",
      "bond: 10\n",
      "bond: 11\n",
      "bond: 12\n",
      "bond: 13\n",
      "bond: 14\n",
      "0 (1, 2, 2) True True\n",
      "1 (2, 2, 4) True True\n",
      "2 (4, 2, 8) True True\n",
      "3 (8, 2, 16) True True\n",
      "4 (16, 2, 16) True False\n",
      "5 (16, 2, 16) True False\n",
      "6 (16, 2, 16) True False\n",
      "7 (16, 2, 16) True False\n",
      "8 (16, 2, 16) True False\n",
      "9 (16, 2, 16) True False\n",
      "10 (16, 2, 16) True False\n",
      "11 (16, 2, 16) True False\n",
      "12 (16, 2, 8) True False\n",
      "13 (8, 2, 4) True False\n",
      "14 (4, 2, 2) True False\n",
      "15 (2, 2, 1) True False\n"
     ]
    }
   ],
   "source": [
    "m_pad.left_cano()"
   ]
  },
  {
   "cell_type": "code",
   "execution_count": 40,
   "metadata": {},
   "outputs": [
    {
     "name": "stdout",
     "output_type": "stream",
     "text": [
      "0 (1, 2, 2) True True\n",
      "1 (2, 2, 4) True True\n",
      "2 (4, 2, 8) True True\n",
      "3 (8, 2, 16) True True\n",
      "4 (16, 2, 16) True False\n",
      "5 (16, 2, 16) True False\n",
      "6 (16, 2, 16) True False\n",
      "7 (16, 2, 16) True False\n",
      "8 (16, 2, 16) True False\n",
      "9 (16, 2, 16) True False\n",
      "10 (16, 2, 16) True False\n",
      "11 (16, 2, 16) True False\n",
      "12 (16, 2, 8) True False\n",
      "13 (8, 2, 4) True False\n",
      "14 (4, 2, 2) True False\n",
      "15 (2, 2, 1) True False\n"
     ]
    }
   ],
   "source": [
    "check_isometries(m_pad)"
   ]
  },
  {
   "attachments": {},
   "cell_type": "markdown",
   "metadata": {},
   "source": [
    "So, fingers crossed, as long as there are no bugs in this repo's code, the padded MPS is now left canonicalized and all the tensors are left isometries. **awesome!**\n",
    "\n",
    "now, we need to figure out how to convert these left-isometries to unitaries and which of these matrices should we be even using ?\n",
    "\n",
    "note that for the above MPS, the 4-qubit gate starts from site = 1 - just something to think about!"
   ]
  },
  {
   "cell_type": "code",
   "execution_count": 42,
   "metadata": {},
   "outputs": [
    {
     "data": {
      "text/plain": [
       "(array([ 2,  4,  8, 16, 16, 16, 16, 16, 16, 16, 16, 16,  8,  4,  2,  1],\n",
       "       dtype=int16),\n",
       " 16)"
      ]
     },
     "execution_count": 42,
     "metadata": {},
     "output_type": "execute_result"
    }
   ],
   "source": [
    "m_pad.bond_dimension, len(m_pad.bond_dimension)"
   ]
  },
  {
   "cell_type": "code",
   "execution_count": 51,
   "metadata": {},
   "outputs": [
    {
     "name": "stdout",
     "output_type": "stream",
     "text": [
      "i, bond_dim, n_qubits, unitary_shape, left_shape, right_shape\n",
      "0, 2, 2, (4, 4), (2, 2), (4, 4)\n",
      "1, 4, 3, (8, 8), (4, 4), (8, 8)\n",
      "2, 8, 4, (16, 16), (8, 8), (16, 16)\n",
      "3, 16, 5, (32, 32), (16, 16), (32, 16)\n",
      "4, 16, 5, (32, 32), (32, 16), (32, 16)\n",
      "5, 16, 5, (32, 32), (32, 16), (32, 16)\n",
      "6, 16, 5, (32, 32), (32, 16), (32, 16)\n",
      "7, 16, 5, (32, 32), (32, 16), (32, 16)\n",
      "8, 16, 5, (32, 32), (32, 16), (32, 16)\n",
      "9, 16, 5, (32, 32), (32, 16), (32, 16)\n",
      "10, 16, 5, (32, 32), (32, 16), (32, 16)\n",
      "11, 16, 5, (32, 32), (32, 16), (32, 8)\n",
      "12, 8, 4, (16, 16), (32, 8), (16, 4)\n",
      "13, 4, 3, (8, 8), (16, 4), (8, 2)\n",
      "14, 2, 2, (4, 4), (8, 2), (4, 1)\n"
     ]
    }
   ],
   "source": [
    "# for each bond in the MPS, get me the size of the core tensors that it\n",
    "# connects to\n",
    "print('i, bond_dim, n_qubits, unitary_shape, left_shape, right_shape')\n",
    "for i in range(len(m_pad.matrices)-1):\n",
    "    bond_dim = m_pad.matrices[i].shape[2]\n",
    "    n_qubits = int(np.log2(bond_dim)) + 1\n",
    "    u_shape = (2**n_qubits, 2**n_qubits)\n",
    "    \n",
    "    left_shape, right_shape = m_pad.matrices[i].shape, m_pad.matrices[i+1].shape\n",
    "    left_shape = (left_shape[0]*left_shape[1], left_shape[2])\n",
    "    right_shape = (right_shape[0]*right_shape[1], right_shape[2])\n",
    "    \n",
    "    print(f'{i}, {bond_dim}, {n_qubits}, {u_shape}, {left_shape}, {right_shape}')"
   ]
  },
  {
   "attachments": {},
   "cell_type": "markdown",
   "metadata": {},
   "source": [
    "From a first scan, it looks like we should be using the right handside tensor of each bond to build out unitaries using the technique described in the paper of extending rows or columns (**it's always columns in our case**)\n",
    "\n",
    "also the great news is the first 3-tensors we need are already unitaries i.e. corresponding to bonds 0, 1, and 2 are already unitaries which supports the idea above.\n",
    "\n",
    "for the second stage i.e. mapping rectangular isometries to unitaries - we can just work with one of the above tensors e.g. for bond 3 = `(32, 16)` and then simply apply the approach to the rest of them."
   ]
  },
  {
   "cell_type": "code",
   "execution_count": 56,
   "metadata": {},
   "outputs": [
    {
     "name": "stdout",
     "output_type": "stream",
     "text": [
      "(2, 2, 1)\n"
     ]
    }
   ],
   "source": [
    "core_tensor_15 = m_pad.matrices[15]\n",
    "print(core_tensor_15.shape)"
   ]
  },
  {
   "cell_type": "code",
   "execution_count": 57,
   "metadata": {},
   "outputs": [
    {
     "name": "stdout",
     "output_type": "stream",
     "text": [
      "(4, 1)\n"
     ]
    }
   ],
   "source": [
    "core_mat_15 = core_tensor_15.reshape(-1, core_tensor_15.shape[2])\n",
    "print(core_mat_15.shape)"
   ]
  },
  {
   "cell_type": "code",
   "execution_count": 58,
   "metadata": {},
   "outputs": [
    {
     "name": "stdout",
     "output_type": "stream",
     "text": [
      "True False\n"
     ]
    }
   ],
   "source": [
    "# check the isometry conditions\n",
    "left_isometry = np.allclose(\n",
    "    np.eye(core_mat_15.shape[1]),\n",
    "    np.matmul(core_mat_15.conj().T, core_mat_15)\n",
    ")\n",
    "\n",
    "right_isometry = np.allclose(\n",
    "    np.eye(core_mat_15.shape[0]),\n",
    "    np.matmul(core_mat_15, core_mat_15.conj().T)\n",
    ")\n",
    "\n",
    "print(left_isometry, right_isometry)"
   ]
  },
  {
   "cell_type": "code",
   "execution_count": 59,
   "metadata": {},
   "outputs": [
    {
     "data": {
      "text/plain": [
       "array([[ 0.50002703],\n",
       "       [ 0.49997297],\n",
       "       [-0.49997296],\n",
       "       [ 0.50002703]])"
      ]
     },
     "execution_count": 59,
     "metadata": {},
     "output_type": "execute_result"
    }
   ],
   "source": [
    "core_mat_15"
   ]
  },
  {
   "cell_type": "code",
   "execution_count": 65,
   "metadata": {},
   "outputs": [
    {
     "ename": "AssertionError",
     "evalue": "",
     "output_type": "error",
     "traceback": [
      "\u001b[0;31m---------------------------------------------------------------------------\u001b[0m",
      "\u001b[0;31mAssertionError\u001b[0m                            Traceback (most recent call last)",
      "\u001b[1;32m/home/abhishekabhishek/git/UnsupGenModbyMPS/sandbox/trained-mps-cano.ipynb Cell 36\u001b[0m in \u001b[0;36m<cell line: 1>\u001b[0;34m()\u001b[0m\n\u001b[0;32m----> <a href='vscode-notebook-cell:/home/abhishekabhishek/git/UnsupGenModbyMPS/sandbox/trained-mps-cano.ipynb#Y111sZmlsZQ%3D%3D?line=0'>1</a>\u001b[0m isometry_to_unitary(core_mat_15)\n",
      "\u001b[1;32m/home/abhishekabhishek/git/UnsupGenModbyMPS/sandbox/trained-mps-cano.ipynb Cell 36\u001b[0m in \u001b[0;36misometry_to_unitary\u001b[0;34m(A)\u001b[0m\n\u001b[1;32m      <a href='vscode-notebook-cell:/home/abhishekabhishek/git/UnsupGenModbyMPS/sandbox/trained-mps-cano.ipynb#Y111sZmlsZQ%3D%3D?line=1'>2</a>\u001b[0m n, m \u001b[39m=\u001b[39m A\u001b[39m.\u001b[39mshape\n\u001b[1;32m      <a href='vscode-notebook-cell:/home/abhishekabhishek/git/UnsupGenModbyMPS/sandbox/trained-mps-cano.ipynb#Y111sZmlsZQ%3D%3D?line=2'>3</a>\u001b[0m \u001b[39m# Check that A is an isometry\u001b[39;00m\n\u001b[0;32m----> <a href='vscode-notebook-cell:/home/abhishekabhishek/git/UnsupGenModbyMPS/sandbox/trained-mps-cano.ipynb#Y111sZmlsZQ%3D%3D?line=3'>4</a>\u001b[0m \u001b[39massert\u001b[39;00m np\u001b[39m.\u001b[39mallclose(np\u001b[39m.\u001b[39mmatmul(A\u001b[39m.\u001b[39mT, A), np\u001b[39m.\u001b[39meye(n))\n\u001b[1;32m      <a href='vscode-notebook-cell:/home/abhishekabhishek/git/UnsupGenModbyMPS/sandbox/trained-mps-cano.ipynb#Y111sZmlsZQ%3D%3D?line=4'>5</a>\u001b[0m \u001b[39m# Complete the columns of A to an orthonormal basis\u001b[39;00m\n\u001b[1;32m      <a href='vscode-notebook-cell:/home/abhishekabhishek/git/UnsupGenModbyMPS/sandbox/trained-mps-cano.ipynb#Y111sZmlsZQ%3D%3D?line=5'>6</a>\u001b[0m B \u001b[39m=\u001b[39m np\u001b[39m.\u001b[39mhstack((A, np\u001b[39m.\u001b[39mzeros((n, n\u001b[39m-\u001b[39mm))))\n",
      "\u001b[0;31mAssertionError\u001b[0m: "
     ]
    }
   ],
   "source": [
    "isometry_to_unitary(core_mat_15)"
   ]
  },
  {
   "cell_type": "code",
   "execution_count": 67,
   "metadata": {},
   "outputs": [
    {
     "data": {
      "text/plain": [
       "(4, 1)"
      ]
     },
     "execution_count": 67,
     "metadata": {},
     "output_type": "execute_result"
    }
   ],
   "source": [
    "core_mat_15.shape"
   ]
  },
  {
   "cell_type": "code",
   "execution_count": 68,
   "metadata": {},
   "outputs": [],
   "source": [
    "import scipy"
   ]
  },
  {
   "cell_type": "code",
   "execution_count": 72,
   "metadata": {},
   "outputs": [],
   "source": [
    "x = scipy.linalg.null_space(core_mat_15.conj().T)"
   ]
  },
  {
   "cell_type": "code",
   "execution_count": 73,
   "metadata": {},
   "outputs": [
    {
     "data": {
      "text/plain": [
       "(4, 3)"
      ]
     },
     "execution_count": 73,
     "metadata": {},
     "output_type": "execute_result"
    }
   ],
   "source": [
    "x.shape"
   ]
  },
  {
   "cell_type": "code",
   "execution_count": 75,
   "metadata": {},
   "outputs": [
    {
     "data": {
      "text/plain": [
       "array([[-3.38643747e-17,  7.19768631e-17, -6.36601364e-17]])"
      ]
     },
     "execution_count": 75,
     "metadata": {},
     "output_type": "execute_result"
    }
   ],
   "source": [
    "np.matmul(core_mat_15.conj().T, x)"
   ]
  },
  {
   "attachments": {},
   "cell_type": "markdown",
   "metadata": {},
   "source": [
    "These are very close to zero which is what we want"
   ]
  },
  {
   "cell_type": "code",
   "execution_count": 77,
   "metadata": {},
   "outputs": [
    {
     "data": {
      "text/plain": [
       "array([[1.00000000e+00, 1.27873476e-18, 0.00000000e+00],\n",
       "       [1.27873476e-18, 1.00000000e+00, 0.00000000e+00],\n",
       "       [0.00000000e+00, 0.00000000e+00, 1.00000000e+00]])"
      ]
     },
     "execution_count": 77,
     "metadata": {},
     "output_type": "execute_result"
    }
   ],
   "source": [
    "np.matmul(x.conj().T, x)"
   ]
  },
  {
   "cell_type": "code",
   "execution_count": 78,
   "metadata": {},
   "outputs": [
    {
     "data": {
      "text/plain": [
       "True"
      ]
     },
     "execution_count": 78,
     "metadata": {},
     "output_type": "execute_result"
    }
   ],
   "source": [
    "np.allclose(\n",
    "    np.eye(x.shape[1]),\n",
    "    np.matmul(x.conj().T, x)\n",
    ")"
   ]
  },
  {
   "attachments": {},
   "cell_type": "markdown",
   "metadata": {},
   "source": [
    "This basically gives us what we need to construct the unitary"
   ]
  },
  {
   "cell_type": "code",
   "execution_count": 80,
   "metadata": {},
   "outputs": [],
   "source": [
    "u = np.hstack((core_mat_15, x))"
   ]
  },
  {
   "cell_type": "code",
   "execution_count": 81,
   "metadata": {},
   "outputs": [],
   "source": [
    "# check if the matrices are isometries or unitary\n",
    "left_isometry = np.allclose(\n",
    "    np.eye(u.shape[1]),\n",
    "    np.matmul(u.conj().T, u)\n",
    ")\n",
    "\n",
    "right_isometry = np.allclose(\n",
    "    np.eye(u.shape[0]),\n",
    "    np.matmul(u, u.conj().T)\n",
    ")"
   ]
  },
  {
   "cell_type": "code",
   "execution_count": 82,
   "metadata": {},
   "outputs": [
    {
     "data": {
      "text/plain": [
       "(True, True)"
      ]
     },
     "execution_count": 82,
     "metadata": {},
     "output_type": "execute_result"
    }
   ],
   "source": [
    "left_isometry, right_isometry"
   ]
  },
  {
   "attachments": {},
   "cell_type": "markdown",
   "metadata": {},
   "source": [
    "I think it's time to write some scripts to peform this process"
   ]
  },
  {
   "cell_type": "code",
   "execution_count": null,
   "metadata": {},
   "outputs": [],
   "source": []
  }
 ],
 "metadata": {
  "kernelspec": {
   "display_name": "dorian",
   "language": "python",
   "name": "dorian"
  },
  "language_info": {
   "codemirror_mode": {
    "name": "ipython",
    "version": 3
   },
   "file_extension": ".py",
   "mimetype": "text/x-python",
   "name": "python",
   "nbconvert_exporter": "python",
   "pygments_lexer": "ipython3",
   "version": "3.8.16"
  },
  "orig_nbformat": 4
 },
 "nbformat": 4,
 "nbformat_minor": 2
}
