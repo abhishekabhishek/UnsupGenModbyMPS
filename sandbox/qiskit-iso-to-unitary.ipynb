{
 "cells": [
  {
   "attachments": {},
   "cell_type": "markdown",
   "metadata": {},
   "source": [
    "### Finding out where `qiskit.{...}.Isometry` gives us a quantum circuit to implement the isometry "
   ]
  },
  {
   "cell_type": "code",
   "execution_count": 21,
   "metadata": {},
   "outputs": [],
   "source": [
    "import numpy as np\n",
    "\n",
    "from qiskit import QuantumCircuit, transpile\n",
    "from qiskit.extensions.quantum_initializer import Isometry\n",
    "from qiskit import quantum_info as qi\n",
    "from qiskit_aer import AerSimulator"
   ]
  },
  {
   "cell_type": "code",
   "execution_count": 17,
   "metadata": {},
   "outputs": [],
   "source": [
    "backend = AerSimulator()"
   ]
  },
  {
   "cell_type": "code",
   "execution_count": 10,
   "metadata": {},
   "outputs": [
    {
     "data": {
      "text/plain": [
       "array([[1, 0],\n",
       "       [0, 0],\n",
       "       [0, 1],\n",
       "       [0, 0]])"
      ]
     },
     "execution_count": 10,
     "metadata": {},
     "output_type": "execute_result"
    }
   ],
   "source": [
    "A = np.array([[1, 0, 0, 0], [0, 1, 0, 0]])\n",
    "A = A.reshape((4, 2))\n",
    "A"
   ]
  },
  {
   "cell_type": "code",
   "execution_count": 13,
   "metadata": {},
   "outputs": [
    {
     "name": "stdout",
     "output_type": "stream",
     "text": [
      "[[1 0]\n",
      " [0 1]]\n",
      "[[1 0 0 0]\n",
      " [0 0 0 0]\n",
      " [0 0 1 0]\n",
      " [0 0 0 0]]\n"
     ]
    }
   ],
   "source": [
    "# confirm that A is a left isometry\n",
    "print(np.matmul(A.T, A))\n",
    "print(np.matmul(A, A.T))"
   ]
  },
  {
   "cell_type": "code",
   "execution_count": 18,
   "metadata": {},
   "outputs": [],
   "source": [
    "qc = QuantumCircuit(2)\n",
    "qc.append(Isometry(A, 0, 0), [0, 1])\n",
    "qc_compiled = transpile(qc, backend)"
   ]
  },
  {
   "cell_type": "code",
   "execution_count": 20,
   "metadata": {},
   "outputs": [
    {
     "data": {
      "text/html": [
       "<pre style=\"word-wrap: normal;white-space: pre;background: #fff0;line-height: 1.1;font-family: &quot;Courier New&quot;,Courier,monospace\">global phase: π/2\n",
       "     ┌──────────────────────────────┐     ┌─────────┐┌───┐┌─────────┐\n",
       "q_0: ┤ Diagonal(0.70711-0.70711j,1) ├──■──┤ Unitary ├┤ X ├┤ Unitary ├\n",
       "     └─────────┬─────────┬──────────┘┌─┴─┐├─────────┤└─┬─┘└─────────┘\n",
       "q_1: ──────────┤ Unitary ├───────────┤ X ├┤ Unitary ├──■─────────────\n",
       "               └─────────┘           └───┘└─────────┘                </pre>"
      ],
      "text/plain": [
       "global phase: π/2\n",
       "     ┌──────────────────────────────┐     ┌─────────┐┌───┐┌─────────┐\n",
       "q_0: ┤ Diagonal(0.70711-0.70711j,1) ├──■──┤ Unitary ├┤ X ├┤ Unitary ├\n",
       "     └─────────┬─────────┬──────────┘┌─┴─┐├─────────┤└─┬─┘└─────────┘\n",
       "q_1: ──────────┤ Unitary ├───────────┤ X ├┤ Unitary ├──■─────────────\n",
       "               └─────────┘           └───┘└─────────┘                "
      ]
     },
     "execution_count": 20,
     "metadata": {},
     "output_type": "execute_result"
    }
   ],
   "source": [
    "qc_compiled.draw()"
   ]
  },
  {
   "cell_type": "code",
   "execution_count": 23,
   "metadata": {},
   "outputs": [],
   "source": [
    "op = qi.Operator(qc_compiled)\n",
    "U = op.data"
   ]
  },
  {
   "cell_type": "code",
   "execution_count": 24,
   "metadata": {},
   "outputs": [
    {
     "data": {
      "text/plain": [
       "(array([[ 1.00000000e+00-7.14959896e-16j,  1.96261557e-17-1.96261557e-17j,\n",
       "         -1.96261557e-16+1.96261557e-16j, -9.00013588e-17+1.66533454e-16j],\n",
       "        [ 0.00000000e+00-1.04576541e-16j, -2.15887713e-16+2.15887713e-16j,\n",
       "         -3.92523115e-17+0.00000000e+00j, -7.88413545e-16-1.00000000e+00j],\n",
       "        [ 3.92523115e-17+1.96261557e-17j,  1.00000000e+00-7.98371058e-16j,\n",
       "         -1.11022302e-16+4.09359695e-17j, -7.85046229e-17+9.81307787e-17j],\n",
       "        [ 1.17756934e-16+9.81307787e-17j,  1.66533454e-16-8.00438459e-17j,\n",
       "         -1.00000000e+00+8.47292013e-16j,  1.23259516e-32+1.96261557e-17j]]),\n",
       " (4, 4))"
      ]
     },
     "execution_count": 24,
     "metadata": {},
     "output_type": "execute_result"
    }
   ],
   "source": [
    "U, U.shape"
   ]
  },
  {
   "cell_type": "code",
   "execution_count": 36,
   "metadata": {},
   "outputs": [
    {
     "name": "stdout",
     "output_type": "stream",
     "text": [
      "[[ 1.-0.j  0.+0.j -0.+0.j -0.+0.j]\n",
      " [ 0.+0.j  1.-0.j -0.+0.j  0.+0.j]\n",
      " [-0.+0.j -0.+0.j  1.-0.j -0.+0.j]\n",
      " [-0.+0.j  0.+0.j -0.+0.j -1.+0.j]]\n",
      "[[ 1.-0.j  0.-0.j  0.-0.j  0.-0.j]\n",
      " [ 0.-0.j -1.+0.j -0.+0.j  0.-0.j]\n",
      " [ 0.-0.j -0.+0.j  1.-0.j  0.-0.j]\n",
      " [ 0.-0.j  0.-0.j  0.-0.j  1.-0.j]]\n"
     ]
    }
   ],
   "source": [
    "print(np.round(np.matmul(U.T, U), 2))\n",
    "print(np.round(np.matmul(U, U.T), 2))"
   ]
  },
  {
   "attachments": {},
   "cell_type": "markdown",
   "metadata": {},
   "source": [
    "### The above is very close to identity but has a factor of -1 in some places "
   ]
  },
  {
   "cell_type": "code",
   "execution_count": 30,
   "metadata": {},
   "outputs": [
    {
     "name": "stdout",
     "output_type": "stream",
     "text": [
      "False\n",
      "False\n"
     ]
    }
   ],
   "source": [
    "print(np.allclose(np.eye(4), np.round(np.matmul(U, U.T)), atol=1e-3))\n",
    "print(np.allclose(np.eye(4), np.round(np.matmul(U.T, U)), atol=1e-3))"
   ]
  }
 ],
 "metadata": {
  "kernelspec": {
   "display_name": "qsar",
   "language": "python",
   "name": "python3"
  },
  "language_info": {
   "codemirror_mode": {
    "name": "ipython",
    "version": 3
   },
   "file_extension": ".py",
   "mimetype": "text/x-python",
   "name": "python",
   "nbconvert_exporter": "python",
   "pygments_lexer": "ipython3",
   "version": "3.8.15"
  },
  "orig_nbformat": 4
 },
 "nbformat": 4,
 "nbformat_minor": 2
}
